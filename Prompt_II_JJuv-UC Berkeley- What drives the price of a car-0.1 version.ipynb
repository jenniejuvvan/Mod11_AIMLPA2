{
 "cells": [
  {
   "cell_type": "markdown",
   "metadata": {},
   "source": [
    "# What drives the price of a car?\n",
    "\n",
    "![](images/kurt.jpeg)"
   ]
  },
  {
   "cell_type": "markdown",
   "metadata": {},
   "source": [
    "**OVERVIEW**\n",
    "\n",
    "In this application, you will explore a dataset from Kaggle. The original dataset contained information on 3 million used cars. The provided dataset contains information on 426K cars to ensure speed of processing.  Your goal is to understand what factors make a car more or less expensive.  As a result of your analysis, you should provide clear recommendations to your client -- a used car dealership -- as to what consumers value in a used car."
   ]
  },
  {
   "cell_type": "markdown",
   "metadata": {},
   "source": [
    "### CRISP-DM Framework\n",
    "\n",
    "<center>\n",
    "    <img src = images/crisp.png width = 50%/>\n",
    "</center>\n",
    "\n",
    "\n",
    "To frame the task, throughout our practical applications, we will refer back to a standard process in industry for data projects called CRISP-DM.  This process provides a framework for working through a data problem.  Your first step in this application will be to read through a brief overview of CRISP-DM [here](https://mo-pcco.s3.us-east-1.amazonaws.com/BH-PCMLAI/module_11/readings_starter.zip).  After reading the overview, answer the questions below."
   ]
  },
  {
   "cell_type": "markdown",
   "metadata": {},
   "source": [
    "### Business Understanding\n",
    "\n",
    "From a business perspective, we are tasked with identifying key drivers for used car prices.  In the CRISP-DM overview, we are asked to convert this business framing to a data problem definition.  Using a few sentences, reframe the task as a data task with the appropriate technical vocabulary. "
   ]
  },
  {
   "cell_type": "code",
   "execution_count": 1067,
   "metadata": {},
   "outputs": [],
   "source": [
    "import pandas as pd\n",
    "import numpy as np\n",
    "from IPython.display import display\n",
    "pd.options.display.max_columns = None\n",
    "pd.options.display.float_format = '{:,.2f}'.format\n",
    "import matplotlib.pyplot as plt\n",
    "import plotly.graph_objs as go\n",
    "from matplotlib import rcParams\n",
    "from tqdm import tqdm\n",
    "import seaborn as sns\n",
    "from sklearn.compose import ColumnTransformer\n",
    "from sklearn.pipeline import Pipeline\n",
    "from sklearn.model_selection import train_test_split\n",
    "from sklearn.ensemble import RandomForestRegressor\n",
    "from sklearn.inspection import permutation_importance\n",
    "from sklearn.metrics import mean_squared_error, mean_absolute_error, r2_score\n",
    "from sklearn.model_selection import train_test_split\n",
    "from sklearn.preprocessing import StandardScaler\n",
    "from sklearn.linear_model import LinearRegression, Ridge, Lasso, RidgeCV, LassoCV\n",
    "from sklearn.model_selection import GridSearchCV, cross_val_score\n",
    "from sklearn.feature_selection import SequentialFeatureSelector, SelectFromModel, RFE\n",
    "from sklearn.preprocessing import OneHotEncoder, OrdinalEncoder, StandardScaler, PolynomialFeatures\n",
    "from sklearn.compose import ColumnTransformer\n",
    "from sklearn.pipeline import Pipeline\n",
    "from sklearn.preprocessing import OneHotEncoder, StandardScaler\n",
    "from sklearn.impute import SimpleImputer\n",
    "from sklearn.linear_model import LinearRegression\n",
    "from sklearn.metrics import mean_absolute_error\n"
   ]
  },
  {
   "cell_type": "code",
   "execution_count": 1068,
   "metadata": {},
   "outputs": [],
   "source": [
    "import warnings\n",
    "warnings.filterwarnings('ignore')"
   ]
  },
  {
   "cell_type": "code",
   "execution_count": 1069,
   "metadata": {},
   "outputs": [
    {
     "data": {
      "text/plain": [
       "(426880, 18)"
      ]
     },
     "execution_count": 1069,
     "metadata": {},
     "output_type": "execute_result"
    }
   ],
   "source": [
    "# Load data from file\n",
    "df = pd.read_csv('data/vehicles.zip')\n",
    "df.shape"
   ]
  },
  {
   "cell_type": "code",
   "execution_count": 1070,
   "metadata": {},
   "outputs": [
    {
     "name": "stdout",
     "output_type": "stream",
     "text": [
      "<class 'pandas.core.frame.DataFrame'>\n",
      "RangeIndex: 426880 entries, 0 to 426879\n",
      "Data columns (total 18 columns):\n",
      " #   Column        Non-Null Count   Dtype  \n",
      "---  ------        --------------   -----  \n",
      " 0   id            426880 non-null  int64  \n",
      " 1   region        426880 non-null  object \n",
      " 2   price         426880 non-null  int64  \n",
      " 3   year          425675 non-null  float64\n",
      " 4   manufacturer  409234 non-null  object \n",
      " 5   model         421603 non-null  object \n",
      " 6   condition     252776 non-null  object \n",
      " 7   cylinders     249202 non-null  object \n",
      " 8   fuel          423867 non-null  object \n",
      " 9   odometer      422480 non-null  float64\n",
      " 10  title_status  418638 non-null  object \n",
      " 11  transmission  424324 non-null  object \n",
      " 12  VIN           265838 non-null  object \n",
      " 13  drive         296313 non-null  object \n",
      " 14  size          120519 non-null  object \n",
      " 15  type          334022 non-null  object \n",
      " 16  paint_color   296677 non-null  object \n",
      " 17  state         426880 non-null  object \n",
      "dtypes: float64(2), int64(2), object(14)\n",
      "memory usage: 58.6+ MB\n"
     ]
    }
   ],
   "source": [
    "df.info()"
   ]
  },
  {
   "cell_type": "code",
   "execution_count": 1071,
   "metadata": {},
   "outputs": [
    {
     "data": {
      "text/html": [
       "<div>\n",
       "<style scoped>\n",
       "    .dataframe tbody tr th:only-of-type {\n",
       "        vertical-align: middle;\n",
       "    }\n",
       "\n",
       "    .dataframe tbody tr th {\n",
       "        vertical-align: top;\n",
       "    }\n",
       "\n",
       "    .dataframe thead th {\n",
       "        text-align: right;\n",
       "    }\n",
       "</style>\n",
       "<table border=\"1\" class=\"dataframe\">\n",
       "  <thead>\n",
       "    <tr style=\"text-align: right;\">\n",
       "      <th></th>\n",
       "      <th>id</th>\n",
       "      <th>region</th>\n",
       "      <th>price</th>\n",
       "      <th>year</th>\n",
       "      <th>manufacturer</th>\n",
       "      <th>model</th>\n",
       "      <th>condition</th>\n",
       "      <th>cylinders</th>\n",
       "      <th>fuel</th>\n",
       "      <th>odometer</th>\n",
       "      <th>title_status</th>\n",
       "      <th>transmission</th>\n",
       "      <th>VIN</th>\n",
       "      <th>drive</th>\n",
       "      <th>size</th>\n",
       "      <th>type</th>\n",
       "      <th>paint_color</th>\n",
       "      <th>state</th>\n",
       "    </tr>\n",
       "  </thead>\n",
       "  <tbody>\n",
       "    <tr>\n",
       "      <th>372237</th>\n",
       "      <td>7313292718</td>\n",
       "      <td>el paso</td>\n",
       "      <td>8995</td>\n",
       "      <td>2,013.00</td>\n",
       "      <td>NaN</td>\n",
       "      <td>IC IC</td>\n",
       "      <td>NaN</td>\n",
       "      <td>8 cylinders</td>\n",
       "      <td>NaN</td>\n",
       "      <td>97,713.00</td>\n",
       "      <td>NaN</td>\n",
       "      <td>automatic</td>\n",
       "      <td>4DRBUSKN1DB305594</td>\n",
       "      <td>NaN</td>\n",
       "      <td>NaN</td>\n",
       "      <td>NaN</td>\n",
       "      <td>yellow</td>\n",
       "      <td>tx</td>\n",
       "    </tr>\n",
       "    <tr>\n",
       "      <th>405272</th>\n",
       "      <td>7316671516</td>\n",
       "      <td>moses lake</td>\n",
       "      <td>4950</td>\n",
       "      <td>1,995.00</td>\n",
       "      <td>lexus</td>\n",
       "      <td>ls 400</td>\n",
       "      <td>NaN</td>\n",
       "      <td>NaN</td>\n",
       "      <td>gas</td>\n",
       "      <td>128,000.00</td>\n",
       "      <td>rebuilt</td>\n",
       "      <td>automatic</td>\n",
       "      <td>NaN</td>\n",
       "      <td>NaN</td>\n",
       "      <td>NaN</td>\n",
       "      <td>NaN</td>\n",
       "      <td>NaN</td>\n",
       "      <td>wa</td>\n",
       "    </tr>\n",
       "    <tr>\n",
       "      <th>193305</th>\n",
       "      <td>7304703891</td>\n",
       "      <td>worcester / central MA</td>\n",
       "      <td>29990</td>\n",
       "      <td>2,016.00</td>\n",
       "      <td>jaguar</td>\n",
       "      <td>xf s sedan 4d</td>\n",
       "      <td>good</td>\n",
       "      <td>6 cylinders</td>\n",
       "      <td>gas</td>\n",
       "      <td>44,203.00</td>\n",
       "      <td>clean</td>\n",
       "      <td>other</td>\n",
       "      <td>SAJBM4BV2GCY19664</td>\n",
       "      <td>NaN</td>\n",
       "      <td>NaN</td>\n",
       "      <td>sedan</td>\n",
       "      <td>white</td>\n",
       "      <td>ma</td>\n",
       "    </tr>\n",
       "    <tr>\n",
       "      <th>240977</th>\n",
       "      <td>7315000430</td>\n",
       "      <td>raleigh / durham / CH</td>\n",
       "      <td>27990</td>\n",
       "      <td>2,017.00</td>\n",
       "      <td>toyota</td>\n",
       "      <td>sienna</td>\n",
       "      <td>excellent</td>\n",
       "      <td>6 cylinders</td>\n",
       "      <td>gas</td>\n",
       "      <td>70,270.00</td>\n",
       "      <td>clean</td>\n",
       "      <td>automatic</td>\n",
       "      <td>5TDDZ3DC9HS158620</td>\n",
       "      <td>4wd</td>\n",
       "      <td>NaN</td>\n",
       "      <td>mini-van</td>\n",
       "      <td>white</td>\n",
       "      <td>nc</td>\n",
       "    </tr>\n",
       "    <tr>\n",
       "      <th>320987</th>\n",
       "      <td>7315463847</td>\n",
       "      <td>oregon coast</td>\n",
       "      <td>4995</td>\n",
       "      <td>1,998.00</td>\n",
       "      <td>chevrolet</td>\n",
       "      <td>tracker</td>\n",
       "      <td>NaN</td>\n",
       "      <td>NaN</td>\n",
       "      <td>gas</td>\n",
       "      <td>174,487.00</td>\n",
       "      <td>clean</td>\n",
       "      <td>manual</td>\n",
       "      <td>2CNBJ1862W6910197</td>\n",
       "      <td>4wd</td>\n",
       "      <td>NaN</td>\n",
       "      <td>SUV</td>\n",
       "      <td>purple</td>\n",
       "      <td>or</td>\n",
       "    </tr>\n",
       "    <tr>\n",
       "      <th>134368</th>\n",
       "      <td>7303843474</td>\n",
       "      <td>east idaho</td>\n",
       "      <td>34500</td>\n",
       "      <td>2,017.00</td>\n",
       "      <td>cadillac</td>\n",
       "      <td>ct6 luxury awd</td>\n",
       "      <td>good</td>\n",
       "      <td>6 cylinders</td>\n",
       "      <td>gas</td>\n",
       "      <td>45,730.00</td>\n",
       "      <td>clean</td>\n",
       "      <td>other</td>\n",
       "      <td>1G6KD5RS2HU169488</td>\n",
       "      <td>NaN</td>\n",
       "      <td>NaN</td>\n",
       "      <td>sedan</td>\n",
       "      <td>black</td>\n",
       "      <td>id</td>\n",
       "    </tr>\n",
       "    <tr>\n",
       "      <th>12557</th>\n",
       "      <td>7315610964</td>\n",
       "      <td>phoenix</td>\n",
       "      <td>1800</td>\n",
       "      <td>2,002.00</td>\n",
       "      <td>toyota</td>\n",
       "      <td>avalon limited</td>\n",
       "      <td>good</td>\n",
       "      <td>6 cylinders</td>\n",
       "      <td>gas</td>\n",
       "      <td>175,000.00</td>\n",
       "      <td>clean</td>\n",
       "      <td>automatic</td>\n",
       "      <td>NaN</td>\n",
       "      <td>rwd</td>\n",
       "      <td>full-size</td>\n",
       "      <td>sedan</td>\n",
       "      <td>custom</td>\n",
       "      <td>az</td>\n",
       "    </tr>\n",
       "    <tr>\n",
       "      <th>129909</th>\n",
       "      <td>7314143980</td>\n",
       "      <td>hawaii</td>\n",
       "      <td>34000</td>\n",
       "      <td>2,016.00</td>\n",
       "      <td>toyota</td>\n",
       "      <td>4runner limited</td>\n",
       "      <td>NaN</td>\n",
       "      <td>NaN</td>\n",
       "      <td>gas</td>\n",
       "      <td>93,497.00</td>\n",
       "      <td>clean</td>\n",
       "      <td>automatic</td>\n",
       "      <td>NaN</td>\n",
       "      <td>NaN</td>\n",
       "      <td>NaN</td>\n",
       "      <td>NaN</td>\n",
       "      <td>NaN</td>\n",
       "      <td>hi</td>\n",
       "    </tr>\n",
       "    <tr>\n",
       "      <th>12433</th>\n",
       "      <td>7315722921</td>\n",
       "      <td>phoenix</td>\n",
       "      <td>35990</td>\n",
       "      <td>2,013.00</td>\n",
       "      <td>toyota</td>\n",
       "      <td>fj cruiser sport utility</td>\n",
       "      <td>good</td>\n",
       "      <td>6 cylinders</td>\n",
       "      <td>gas</td>\n",
       "      <td>77,115.00</td>\n",
       "      <td>clean</td>\n",
       "      <td>other</td>\n",
       "      <td>JTEBU4BF5DK171208</td>\n",
       "      <td>4wd</td>\n",
       "      <td>NaN</td>\n",
       "      <td>other</td>\n",
       "      <td>white</td>\n",
       "      <td>az</td>\n",
       "    </tr>\n",
       "    <tr>\n",
       "      <th>401415</th>\n",
       "      <td>7307557953</td>\n",
       "      <td>bellingham</td>\n",
       "      <td>55000</td>\n",
       "      <td>2,020.00</td>\n",
       "      <td>jeep</td>\n",
       "      <td>wrangler</td>\n",
       "      <td>NaN</td>\n",
       "      <td>NaN</td>\n",
       "      <td>diesel</td>\n",
       "      <td>19,155.00</td>\n",
       "      <td>clean</td>\n",
       "      <td>automatic</td>\n",
       "      <td>1C4JJXFM9LW194890</td>\n",
       "      <td>4wd</td>\n",
       "      <td>NaN</td>\n",
       "      <td>SUV</td>\n",
       "      <td>white</td>\n",
       "      <td>wa</td>\n",
       "    </tr>\n",
       "  </tbody>\n",
       "</table>\n",
       "</div>"
      ],
      "text/plain": [
       "                id                  region  price     year manufacturer  \\\n",
       "372237  7313292718                 el paso   8995 2,013.00          NaN   \n",
       "405272  7316671516              moses lake   4950 1,995.00        lexus   \n",
       "193305  7304703891  worcester / central MA  29990 2,016.00       jaguar   \n",
       "240977  7315000430   raleigh / durham / CH  27990 2,017.00       toyota   \n",
       "320987  7315463847            oregon coast   4995 1,998.00    chevrolet   \n",
       "134368  7303843474              east idaho  34500 2,017.00     cadillac   \n",
       "12557   7315610964                 phoenix   1800 2,002.00       toyota   \n",
       "129909  7314143980                  hawaii  34000 2,016.00       toyota   \n",
       "12433   7315722921                 phoenix  35990 2,013.00       toyota   \n",
       "401415  7307557953              bellingham  55000 2,020.00         jeep   \n",
       "\n",
       "                           model  condition    cylinders    fuel   odometer  \\\n",
       "372237                     IC IC        NaN  8 cylinders     NaN  97,713.00   \n",
       "405272                    ls 400        NaN          NaN     gas 128,000.00   \n",
       "193305             xf s sedan 4d       good  6 cylinders     gas  44,203.00   \n",
       "240977                    sienna  excellent  6 cylinders     gas  70,270.00   \n",
       "320987                   tracker        NaN          NaN     gas 174,487.00   \n",
       "134368            ct6 luxury awd       good  6 cylinders     gas  45,730.00   \n",
       "12557             avalon limited       good  6 cylinders     gas 175,000.00   \n",
       "129909           4runner limited        NaN          NaN     gas  93,497.00   \n",
       "12433   fj cruiser sport utility       good  6 cylinders     gas  77,115.00   \n",
       "401415                  wrangler        NaN          NaN  diesel  19,155.00   \n",
       "\n",
       "       title_status transmission                VIN drive       size  \\\n",
       "372237          NaN    automatic  4DRBUSKN1DB305594   NaN        NaN   \n",
       "405272      rebuilt    automatic                NaN   NaN        NaN   \n",
       "193305        clean        other  SAJBM4BV2GCY19664   NaN        NaN   \n",
       "240977        clean    automatic  5TDDZ3DC9HS158620   4wd        NaN   \n",
       "320987        clean       manual  2CNBJ1862W6910197   4wd        NaN   \n",
       "134368        clean        other  1G6KD5RS2HU169488   NaN        NaN   \n",
       "12557         clean    automatic                NaN   rwd  full-size   \n",
       "129909        clean    automatic                NaN   NaN        NaN   \n",
       "12433         clean        other  JTEBU4BF5DK171208   4wd        NaN   \n",
       "401415        clean    automatic  1C4JJXFM9LW194890   4wd        NaN   \n",
       "\n",
       "            type paint_color state  \n",
       "372237       NaN      yellow    tx  \n",
       "405272       NaN         NaN    wa  \n",
       "193305     sedan       white    ma  \n",
       "240977  mini-van       white    nc  \n",
       "320987       SUV      purple    or  \n",
       "134368     sedan       black    id  \n",
       "12557      sedan      custom    az  \n",
       "129909       NaN         NaN    hi  \n",
       "12433      other       white    az  \n",
       "401415       SUV       white    wa  "
      ]
     },
     "execution_count": 1071,
     "metadata": {},
     "output_type": "execute_result"
    }
   ],
   "source": [
    "df.sample(10)"
   ]
  },
  {
   "cell_type": "code",
   "execution_count": 1072,
   "metadata": {},
   "outputs": [
    {
     "data": {
      "text/html": [
       "<div>\n",
       "<style scoped>\n",
       "    .dataframe tbody tr th:only-of-type {\n",
       "        vertical-align: middle;\n",
       "    }\n",
       "\n",
       "    .dataframe tbody tr th {\n",
       "        vertical-align: top;\n",
       "    }\n",
       "\n",
       "    .dataframe thead th {\n",
       "        text-align: right;\n",
       "    }\n",
       "</style>\n",
       "<table border=\"1\" class=\"dataframe\">\n",
       "  <thead>\n",
       "    <tr style=\"text-align: right;\">\n",
       "      <th></th>\n",
       "      <th>id</th>\n",
       "      <th>price</th>\n",
       "      <th>year</th>\n",
       "      <th>odometer</th>\n",
       "    </tr>\n",
       "  </thead>\n",
       "  <tbody>\n",
       "    <tr>\n",
       "      <th>count</th>\n",
       "      <td>426,880.00</td>\n",
       "      <td>426,880.00</td>\n",
       "      <td>425,675.00</td>\n",
       "      <td>422,480.00</td>\n",
       "    </tr>\n",
       "    <tr>\n",
       "      <th>mean</th>\n",
       "      <td>7,311,486,634.22</td>\n",
       "      <td>75,199.03</td>\n",
       "      <td>2,011.24</td>\n",
       "      <td>98,043.33</td>\n",
       "    </tr>\n",
       "    <tr>\n",
       "      <th>std</th>\n",
       "      <td>4,473,170.41</td>\n",
       "      <td>12,182,282.17</td>\n",
       "      <td>9.45</td>\n",
       "      <td>213,881.50</td>\n",
       "    </tr>\n",
       "    <tr>\n",
       "      <th>min</th>\n",
       "      <td>7,207,408,119.00</td>\n",
       "      <td>0.00</td>\n",
       "      <td>1,900.00</td>\n",
       "      <td>0.00</td>\n",
       "    </tr>\n",
       "    <tr>\n",
       "      <th>25%</th>\n",
       "      <td>7,308,143,339.25</td>\n",
       "      <td>5,900.00</td>\n",
       "      <td>2,008.00</td>\n",
       "      <td>37,704.00</td>\n",
       "    </tr>\n",
       "    <tr>\n",
       "      <th>50%</th>\n",
       "      <td>7,312,620,821.00</td>\n",
       "      <td>13,950.00</td>\n",
       "      <td>2,013.00</td>\n",
       "      <td>85,548.00</td>\n",
       "    </tr>\n",
       "    <tr>\n",
       "      <th>75%</th>\n",
       "      <td>7,315,253,543.50</td>\n",
       "      <td>26,485.75</td>\n",
       "      <td>2,017.00</td>\n",
       "      <td>133,542.50</td>\n",
       "    </tr>\n",
       "    <tr>\n",
       "      <th>max</th>\n",
       "      <td>7,317,101,084.00</td>\n",
       "      <td>3,736,928,711.00</td>\n",
       "      <td>2,022.00</td>\n",
       "      <td>10,000,000.00</td>\n",
       "    </tr>\n",
       "  </tbody>\n",
       "</table>\n",
       "</div>"
      ],
      "text/plain": [
       "                    id            price       year      odometer\n",
       "count       426,880.00       426,880.00 425,675.00    422,480.00\n",
       "mean  7,311,486,634.22        75,199.03   2,011.24     98,043.33\n",
       "std       4,473,170.41    12,182,282.17       9.45    213,881.50\n",
       "min   7,207,408,119.00             0.00   1,900.00          0.00\n",
       "25%   7,308,143,339.25         5,900.00   2,008.00     37,704.00\n",
       "50%   7,312,620,821.00        13,950.00   2,013.00     85,548.00\n",
       "75%   7,315,253,543.50        26,485.75   2,017.00    133,542.50\n",
       "max   7,317,101,084.00 3,736,928,711.00   2,022.00 10,000,000.00"
      ]
     },
     "execution_count": 1072,
     "metadata": {},
     "output_type": "execute_result"
    }
   ],
   "source": [
    "df.describe()"
   ]
  },
  {
   "cell_type": "code",
   "execution_count": 1073,
   "metadata": {},
   "outputs": [
    {
     "data": {
      "text/plain": [
       "id                   0\n",
       "region               0\n",
       "price                0\n",
       "year              1205\n",
       "manufacturer     17646\n",
       "model             5277\n",
       "condition       174104\n",
       "cylinders       177678\n",
       "fuel              3013\n",
       "odometer          4400\n",
       "title_status      8242\n",
       "transmission      2556\n",
       "VIN             161042\n",
       "drive           130567\n",
       "size            306361\n",
       "type             92858\n",
       "paint_color     130203\n",
       "state                0\n",
       "dtype: int64"
      ]
     },
     "execution_count": 1073,
     "metadata": {},
     "output_type": "execute_result"
    }
   ],
   "source": [
    "# Find missing values\n",
    "df.isnull().sum()\n",
    "\n",
    "#Target Value - \"Price\" does not have missing/null values"
   ]
  },
  {
   "cell_type": "code",
   "execution_count": 1074,
   "metadata": {},
   "outputs": [
    {
     "data": {
      "text/plain": [
       "array([nan, 'gmc', 'chevrolet', 'toyota', 'ford', 'jeep', 'nissan', 'ram',\n",
       "       'mazda', 'cadillac', 'honda', 'dodge', 'lexus', 'jaguar', 'buick',\n",
       "       'chrysler', 'volvo', 'audi', 'infiniti', 'lincoln', 'alfa-romeo',\n",
       "       'subaru', 'acura', 'hyundai', 'mercedes-benz', 'bmw', 'mitsubishi',\n",
       "       'volkswagen', 'porsche', 'kia', 'rover', 'ferrari', 'mini',\n",
       "       'pontiac', 'fiat', 'tesla', 'saturn', 'mercury', 'harley-davidson',\n",
       "       'datsun', 'aston-martin', 'land rover', 'morgan'], dtype=object)"
      ]
     },
     "execution_count": 1074,
     "metadata": {},
     "output_type": "execute_result"
    }
   ],
   "source": [
    "vehicles_cleaned.manufacturer.unique()"
   ]
  },
  {
   "cell_type": "code",
   "execution_count": 1075,
   "metadata": {},
   "outputs": [
    {
     "data": {
      "text/plain": [
       "array([nan, 'sierra 1500 crew cab slt', 'silverado 1500', ...,\n",
       "       'gand wagoneer', '96 Suburban', 'Paige Glenbrook Touring'],\n",
       "      dtype=object)"
      ]
     },
     "execution_count": 1075,
     "metadata": {},
     "output_type": "execute_result"
    }
   ],
   "source": [
    "vehicles_cleaned.model.unique()"
   ]
  },
  {
   "cell_type": "code",
   "execution_count": 1076,
   "metadata": {},
   "outputs": [
    {
     "data": {
      "text/plain": [
       "array([nan, '8 cylinders', '6 cylinders', '4 cylinders', '5 cylinders',\n",
       "       'other', '3 cylinders', '10 cylinders', '12 cylinders'],\n",
       "      dtype=object)"
      ]
     },
     "execution_count": 1076,
     "metadata": {},
     "output_type": "execute_result"
    }
   ],
   "source": [
    "vehicles_cleaned.cylinders.unique()"
   ]
  },
  {
   "cell_type": "code",
   "execution_count": 1077,
   "metadata": {},
   "outputs": [
    {
     "data": {
      "text/plain": [
       "array([nan, 'gas', 'other', 'diesel', 'hybrid', 'electric'], dtype=object)"
      ]
     },
     "execution_count": 1077,
     "metadata": {},
     "output_type": "execute_result"
    }
   ],
   "source": [
    "vehicles_cleaned.fuel.unique()"
   ]
  },
  {
   "cell_type": "code",
   "execution_count": 1078,
   "metadata": {},
   "outputs": [
    {
     "data": {
      "text/plain": [
       "array([nan, 'clean', 'rebuilt', 'lien', 'salvage', 'missing',\n",
       "       'parts only'], dtype=object)"
      ]
     },
     "execution_count": 1078,
     "metadata": {},
     "output_type": "execute_result"
    }
   ],
   "source": [
    "vehicles_cleaned.title_status.unique()"
   ]
  },
  {
   "cell_type": "code",
   "execution_count": 1079,
   "metadata": {},
   "outputs": [
    {
     "data": {
      "text/plain": [
       "array([nan, 'other', 'automatic', 'manual'], dtype=object)"
      ]
     },
     "execution_count": 1079,
     "metadata": {},
     "output_type": "execute_result"
    }
   ],
   "source": [
    "vehicles_cleaned.transmission.unique()"
   ]
  },
  {
   "cell_type": "code",
   "execution_count": 1080,
   "metadata": {},
   "outputs": [
    {
     "data": {
      "text/plain": [
       "array([nan, 'rwd', '4wd', 'fwd'], dtype=object)"
      ]
     },
     "execution_count": 1080,
     "metadata": {},
     "output_type": "execute_result"
    }
   ],
   "source": [
    "vehicles_cleaned.drive.unique()"
   ]
  },
  {
   "cell_type": "code",
   "execution_count": 1081,
   "metadata": {},
   "outputs": [
    {
     "data": {
      "text/plain": [
       "array([nan, 'pickup', 'truck', 'other', 'coupe', 'SUV', 'hatchback',\n",
       "       'mini-van', 'sedan', 'offroad', 'bus', 'van', 'convertible',\n",
       "       'wagon'], dtype=object)"
      ]
     },
     "execution_count": 1081,
     "metadata": {},
     "output_type": "execute_result"
    }
   ],
   "source": [
    "vehicles_cleaned.type.unique()"
   ]
  },
  {
   "cell_type": "code",
   "execution_count": 1082,
   "metadata": {},
   "outputs": [
    {
     "data": {
      "text/plain": [
       "array([nan, 'white', 'blue', 'red', 'black', 'silver', 'grey', 'brown',\n",
       "       'yellow', 'orange', 'green', 'custom', 'purple'], dtype=object)"
      ]
     },
     "execution_count": 1082,
     "metadata": {},
     "output_type": "execute_result"
    }
   ],
   "source": [
    "vehicles_cleaned.paint_color.unique()"
   ]
  },
  {
   "cell_type": "code",
   "execution_count": 1083,
   "metadata": {},
   "outputs": [
    {
     "data": {
      "text/html": [
       "<div>\n",
       "<style scoped>\n",
       "    .dataframe tbody tr th:only-of-type {\n",
       "        vertical-align: middle;\n",
       "    }\n",
       "\n",
       "    .dataframe tbody tr th {\n",
       "        vertical-align: top;\n",
       "    }\n",
       "\n",
       "    .dataframe thead th {\n",
       "        text-align: right;\n",
       "    }\n",
       "</style>\n",
       "<table border=\"1\" class=\"dataframe\">\n",
       "  <thead>\n",
       "    <tr style=\"text-align: right;\">\n",
       "      <th></th>\n",
       "      <th>id</th>\n",
       "      <th>price</th>\n",
       "      <th>year</th>\n",
       "      <th>odometer</th>\n",
       "    </tr>\n",
       "  </thead>\n",
       "  <tbody>\n",
       "    <tr>\n",
       "      <th>count</th>\n",
       "      <td>426,880.00</td>\n",
       "      <td>426,880.00</td>\n",
       "      <td>425,675.00</td>\n",
       "      <td>422,480.00</td>\n",
       "    </tr>\n",
       "    <tr>\n",
       "      <th>mean</th>\n",
       "      <td>7,311,486,634.22</td>\n",
       "      <td>75,199.03</td>\n",
       "      <td>2,011.24</td>\n",
       "      <td>98,043.33</td>\n",
       "    </tr>\n",
       "    <tr>\n",
       "      <th>std</th>\n",
       "      <td>4,473,170.41</td>\n",
       "      <td>12,182,282.17</td>\n",
       "      <td>9.45</td>\n",
       "      <td>213,881.50</td>\n",
       "    </tr>\n",
       "    <tr>\n",
       "      <th>min</th>\n",
       "      <td>7,207,408,119.00</td>\n",
       "      <td>0.00</td>\n",
       "      <td>1,900.00</td>\n",
       "      <td>0.00</td>\n",
       "    </tr>\n",
       "    <tr>\n",
       "      <th>25%</th>\n",
       "      <td>7,308,143,339.25</td>\n",
       "      <td>5,900.00</td>\n",
       "      <td>2,008.00</td>\n",
       "      <td>37,704.00</td>\n",
       "    </tr>\n",
       "    <tr>\n",
       "      <th>50%</th>\n",
       "      <td>7,312,620,821.00</td>\n",
       "      <td>13,950.00</td>\n",
       "      <td>2,013.00</td>\n",
       "      <td>85,548.00</td>\n",
       "    </tr>\n",
       "    <tr>\n",
       "      <th>75%</th>\n",
       "      <td>7,315,253,543.50</td>\n",
       "      <td>26,485.75</td>\n",
       "      <td>2,017.00</td>\n",
       "      <td>133,542.50</td>\n",
       "    </tr>\n",
       "    <tr>\n",
       "      <th>max</th>\n",
       "      <td>7,317,101,084.00</td>\n",
       "      <td>3,736,928,711.00</td>\n",
       "      <td>2,022.00</td>\n",
       "      <td>10,000,000.00</td>\n",
       "    </tr>\n",
       "  </tbody>\n",
       "</table>\n",
       "</div>"
      ],
      "text/plain": [
       "                    id            price       year      odometer\n",
       "count       426,880.00       426,880.00 425,675.00    422,480.00\n",
       "mean  7,311,486,634.22        75,199.03   2,011.24     98,043.33\n",
       "std       4,473,170.41    12,182,282.17       9.45    213,881.50\n",
       "min   7,207,408,119.00             0.00   1,900.00          0.00\n",
       "25%   7,308,143,339.25         5,900.00   2,008.00     37,704.00\n",
       "50%   7,312,620,821.00        13,950.00   2,013.00     85,548.00\n",
       "75%   7,315,253,543.50        26,485.75   2,017.00    133,542.50\n",
       "max   7,317,101,084.00 3,736,928,711.00   2,022.00 10,000,000.00"
      ]
     },
     "execution_count": 1083,
     "metadata": {},
     "output_type": "execute_result"
    }
   ],
   "source": [
    "vehicles_cleaned.describe()"
   ]
  },
  {
   "cell_type": "markdown",
   "metadata": {},
   "source": [
    "Summary of the Data:\n",
    "\n",
    "Row count: ~426K vehicles\n",
    "\n",
    "Columns analyzed: id, price, year, odometer\n",
    "\n",
    "1. id:Not useful, drop this column\n",
    "\n",
    "2. price:\n",
    "\n",
    "Mean: $75,199 — but much higher than median ($13,950).\n",
    "Std dev: ~$12M (!!), massive spread.\n",
    "Min: $0 — invalid listing.\n",
    "Max: $3.7B — clearly an outlier (probably dirty data).\n",
    "Median (50%): $13,950 — much more reasonable.\n",
    "25%–75% range: $5,900 to $26,486 → interquartile range looks realistic.\n",
    "The distribution is heavily right-skewed due to extreme outliers. Most cars fall in a normal consumer price band, but some invalid entries (0 or billions) distort averages.Need to cap orremove extreme outliers.\n",
    "\n",
    "3. year:\n",
    "\n",
    "Range: 1900 to 2022\n",
    "Mean: ~2011\n",
    "Median: 2013\n",
    "The 25%–75% band (2008–2017) makes sense for used cars.\n",
    "Min 1900 is unrealistic (dirty data).\n",
    "Majority of vehicles are 2008+, but some entries are incorrect (e.g., 1900).Will try to filter years to [1990–2022] to clean dataset.\n",
    "\n",
    "4. odometer\n",
    "\n",
    "Mean: ~98K miles\n",
    "Median: ~85K miles\n",
    "25%–75% range: ~38K – 134K → reasonable for used cars.\n",
    "Std dev: ~214K miles → very high, again due to extreme outliers.\n",
    "Max: 10,000,000 miles — unrealistic (dirty data).\n",
    "Min: 0 miles — could be new cars or invalid.\n",
    "Typical used cars have 40K–130K miles, but outliers exist at both ends.\n",
    "Cap odometer (e.g., ≤500K) and will need to treat 0 carefully (new vs. invalid).\n",
    "\n",
    "Overall Data Quality Issues:\n",
    "\n",
    "1. Extreme outliers in price and odometer.\n",
    "2. Invalid values in year (1900).\n",
    "3. Zeros in price and odometer need clarification (missing vs. valid).\n",
    "\n"
   ]
  },
  {
   "cell_type": "code",
   "execution_count": 1084,
   "metadata": {},
   "outputs": [
    {
     "name": "stdout",
     "output_type": "stream",
     "text": [
      "manufacturer\n",
      "4 % of the columns is na\n",
      "                 count percentage\n",
      "manufacturer                     \n",
      "ford             70985      17.3%\n",
      "chevrolet        55064      13.5%\n",
      "toyota           34202       8.4%\n",
      "honda            21269       5.2%\n",
      "nissan           19067       4.7%\n",
      "jeep             19014       4.6%\n",
      "ram              18342       4.5%\n",
      "gmc              16785       4.1%\n",
      "bmw              14699       3.6%\n",
      "dodge            13707       3.3%\n",
      "mercedes-benz    11817       2.9%\n",
      "hyundai          10338       2.5%\n",
      "subaru            9495       2.3%\n",
      "volkswagen        9345       2.3%\n",
      "kia               8457       2.1%\n",
      "lexus             8200       2.0%\n",
      "audi              7573       1.9%\n",
      "cadillac          6953       1.7%\n",
      "chrysler          6031       1.5%\n",
      "acura             5978       1.5%\n",
      "buick             5501       1.3%\n",
      "mazda             5427       1.3%\n",
      "infiniti          4802       1.2%\n",
      "lincoln           4220       1.0%\n",
      "volvo             3374       0.8%\n",
      "mitsubishi        3292       0.8%\n",
      "mini              2376       0.6%\n",
      "pontiac           2288       0.6%\n",
      "rover             2113       0.5%\n",
      "jaguar            1946       0.5%\n",
      "porsche           1384       0.3%\n",
      "mercury           1184       0.3%\n",
      "saturn            1090       0.3%\n",
      "alfa-romeo         897       0.2%\n",
      "tesla              868       0.2%\n",
      "fiat               792       0.2%\n",
      "harley-davidson    153       0.0%\n",
      "ferrari             95       0.0%\n",
      "datsun              63       0.0%\n",
      "aston-martin        24       0.0%\n",
      "land rover          21       0.0%\n",
      "morgan               3       0.0% \n",
      "\n",
      "\n",
      "condition\n",
      "41 % of the columns is na\n",
      "            count percentage\n",
      "condition                   \n",
      "good       121456      48.0%\n",
      "excellent  101467      40.1%\n",
      "like new    21178       8.4%\n",
      "fair         6769       2.7%\n",
      "new          1305       0.5%\n",
      "salvage       601       0.2% \n",
      "\n",
      "\n",
      "cylinders\n",
      "42 % of the columns is na\n",
      "              count percentage\n",
      "cylinders                     \n",
      "6 cylinders   94169      37.8%\n",
      "4 cylinders   77642      31.2%\n",
      "8 cylinders   72062      28.9%\n",
      "5 cylinders    1712       0.7%\n",
      "10 cylinders   1455       0.6%\n",
      "other          1298       0.5%\n",
      "3 cylinders     655       0.3%\n",
      "12 cylinders    209       0.1% \n",
      "\n",
      "\n",
      "fuel\n",
      "1 % of the columns is na\n",
      "           count percentage\n",
      "fuel                       \n",
      "gas       356209      84.0%\n",
      "other      30728       7.2%\n",
      "diesel     30062       7.1%\n",
      "hybrid      5170       1.2%\n",
      "electric    1698       0.4% \n",
      "\n",
      "\n",
      "title_status\n",
      "2 % of the columns is na\n",
      "               count percentage\n",
      "title_status                   \n",
      "clean         405117      96.8%\n",
      "rebuilt         7219       1.7%\n",
      "salvage         3868       0.9%\n",
      "lien            1422       0.3%\n",
      "missing          814       0.2%\n",
      "parts only       198       0.0% \n",
      "\n",
      "\n",
      "transmission\n",
      "1 % of the columns is na\n",
      "               count percentage\n",
      "transmission                   \n",
      "automatic     336524      79.3%\n",
      "other          62682      14.8%\n",
      "manual         25118       5.9% \n",
      "\n",
      "\n",
      "drive\n",
      "31 % of the columns is na\n",
      "        count percentage\n",
      "drive                   \n",
      "4wd    131904      44.5%\n",
      "fwd    105517      35.6%\n",
      "rwd     58892      19.9% \n",
      "\n",
      "\n",
      "type\n",
      "22 % of the columns is na\n",
      "             count percentage\n",
      "type                         \n",
      "sedan        87056      26.1%\n",
      "SUV          77284      23.1%\n",
      "pickup       43510      13.0%\n",
      "truck        35279      10.6%\n",
      "other        22110       6.6%\n",
      "coupe        19204       5.7%\n",
      "hatchback    16598       5.0%\n",
      "wagon        10751       3.2%\n",
      "van           8548       2.6%\n",
      "convertible   7731       2.3%\n",
      "mini-van      4825       1.4%\n",
      "offroad        609       0.2%\n",
      "bus            517       0.2% \n",
      "\n",
      "\n",
      "paint_color\n",
      "31 % of the columns is na\n",
      "             count percentage\n",
      "paint_color                  \n",
      "white        79285      26.7%\n",
      "black        62861      21.2%\n",
      "silver       42970      14.5%\n",
      "blue         31223      10.5%\n",
      "red          30473      10.3%\n",
      "grey         24416       8.2%\n",
      "green         7343       2.5%\n",
      "custom        6700       2.3%\n",
      "brown         6593       2.2%\n",
      "yellow        2142       0.7%\n",
      "orange        1984       0.7%\n",
      "purple         687       0.2% \n",
      "\n",
      "\n"
     ]
    }
   ],
   "source": [
    "for col in ['manufacturer', 'condition', 'cylinders', 'fuel', 'title_status', 'transmission', 'drive', 'type', 'paint_color']:\n",
    "    counts = vehicles_cleaned[col].value_counts()\n",
    "    perc = vehicles_cleaned[col].value_counts(normalize = True).mul(100).round(1).astype(str) + '%'\n",
    "    nas = vehicles_cleaned[col].isna().sum()\n",
    "    print(col)\n",
    "    print(((vehicles_cleaned[col].isna().sum() / vehicles_cleaned.shape[0]).round(2)*100).astype(str).split('.')[0], '% of the columns is na')\n",
    "    print(pd.DataFrame({'count': counts, 'percentage': perc}), '\\n\\n')"
   ]
  },
  {
   "cell_type": "markdown",
   "metadata": {},
   "source": [
    "1. Majority of the cars are manufactured by ford or chevrolet.\n",
    "2. The condition of 41% of the cars is unknown. Among the condition-known cars, almost half of them are in good or excellent shape.\n",
    "3. The cyclinder counts of 42% of the cars in NA or unknown. Among the cylinder count-known cars, most of them has 4 or 6 cylinders.\n",
    "4. Great majority of the cars's fuel is gas.\n",
    "5. Almost every car is stated as clean. (title_status)\n",
    "6. Majority of the cars have automatic trasmission.\n",
    "7. The drive type of 31% of the cars. Among the drive type-known cars, close to half of them are 4 wheel drive.\n",
    "8. Most of the cars' size is unknown. In known ones, one of two is full size.\n",
    "9. The type of 22% of the cars in unknown or NA. Among type-known cars, sedan and SUV are common.\n",
    "10.The color of 28% of the cars in unknown. Among color-known cars, white and black are common."
   ]
  },
  {
   "cell_type": "markdown",
   "metadata": {},
   "source": [
    "## Clean missing values"
   ]
  },
  {
   "cell_type": "code",
   "execution_count": 1085,
   "metadata": {},
   "outputs": [
    {
     "data": {
      "text/html": [
       "<div>\n",
       "<style scoped>\n",
       "    .dataframe tbody tr th:only-of-type {\n",
       "        vertical-align: middle;\n",
       "    }\n",
       "\n",
       "    .dataframe tbody tr th {\n",
       "        vertical-align: top;\n",
       "    }\n",
       "\n",
       "    .dataframe thead th {\n",
       "        text-align: right;\n",
       "    }\n",
       "</style>\n",
       "<table border=\"1\" class=\"dataframe\">\n",
       "  <thead>\n",
       "    <tr style=\"text-align: right;\">\n",
       "      <th></th>\n",
       "      <th>region</th>\n",
       "      <th>price</th>\n",
       "      <th>year</th>\n",
       "      <th>manufacturer</th>\n",
       "      <th>model</th>\n",
       "      <th>condition</th>\n",
       "      <th>cylinders</th>\n",
       "      <th>fuel</th>\n",
       "      <th>odometer</th>\n",
       "      <th>title_status</th>\n",
       "      <th>transmission</th>\n",
       "      <th>drive</th>\n",
       "      <th>type</th>\n",
       "      <th>paint_color</th>\n",
       "      <th>state</th>\n",
       "    </tr>\n",
       "  </thead>\n",
       "  <tbody>\n",
       "    <tr>\n",
       "      <th>0</th>\n",
       "      <td>prescott</td>\n",
       "      <td>6000</td>\n",
       "      <td>NaN</td>\n",
       "      <td>NaN</td>\n",
       "      <td>NaN</td>\n",
       "      <td>NaN</td>\n",
       "      <td>NaN</td>\n",
       "      <td>NaN</td>\n",
       "      <td>NaN</td>\n",
       "      <td>NaN</td>\n",
       "      <td>NaN</td>\n",
       "      <td>NaN</td>\n",
       "      <td>NaN</td>\n",
       "      <td>NaN</td>\n",
       "      <td>az</td>\n",
       "    </tr>\n",
       "    <tr>\n",
       "      <th>1</th>\n",
       "      <td>fayetteville</td>\n",
       "      <td>11900</td>\n",
       "      <td>NaN</td>\n",
       "      <td>NaN</td>\n",
       "      <td>NaN</td>\n",
       "      <td>NaN</td>\n",
       "      <td>NaN</td>\n",
       "      <td>NaN</td>\n",
       "      <td>NaN</td>\n",
       "      <td>NaN</td>\n",
       "      <td>NaN</td>\n",
       "      <td>NaN</td>\n",
       "      <td>NaN</td>\n",
       "      <td>NaN</td>\n",
       "      <td>ar</td>\n",
       "    </tr>\n",
       "    <tr>\n",
       "      <th>2</th>\n",
       "      <td>florida keys</td>\n",
       "      <td>21000</td>\n",
       "      <td>NaN</td>\n",
       "      <td>NaN</td>\n",
       "      <td>NaN</td>\n",
       "      <td>NaN</td>\n",
       "      <td>NaN</td>\n",
       "      <td>NaN</td>\n",
       "      <td>NaN</td>\n",
       "      <td>NaN</td>\n",
       "      <td>NaN</td>\n",
       "      <td>NaN</td>\n",
       "      <td>NaN</td>\n",
       "      <td>NaN</td>\n",
       "      <td>fl</td>\n",
       "    </tr>\n",
       "    <tr>\n",
       "      <th>3</th>\n",
       "      <td>worcester / central MA</td>\n",
       "      <td>1500</td>\n",
       "      <td>NaN</td>\n",
       "      <td>NaN</td>\n",
       "      <td>NaN</td>\n",
       "      <td>NaN</td>\n",
       "      <td>NaN</td>\n",
       "      <td>NaN</td>\n",
       "      <td>NaN</td>\n",
       "      <td>NaN</td>\n",
       "      <td>NaN</td>\n",
       "      <td>NaN</td>\n",
       "      <td>NaN</td>\n",
       "      <td>NaN</td>\n",
       "      <td>ma</td>\n",
       "    </tr>\n",
       "    <tr>\n",
       "      <th>4</th>\n",
       "      <td>greensboro</td>\n",
       "      <td>4900</td>\n",
       "      <td>NaN</td>\n",
       "      <td>NaN</td>\n",
       "      <td>NaN</td>\n",
       "      <td>NaN</td>\n",
       "      <td>NaN</td>\n",
       "      <td>NaN</td>\n",
       "      <td>NaN</td>\n",
       "      <td>NaN</td>\n",
       "      <td>NaN</td>\n",
       "      <td>NaN</td>\n",
       "      <td>NaN</td>\n",
       "      <td>NaN</td>\n",
       "      <td>nc</td>\n",
       "    </tr>\n",
       "  </tbody>\n",
       "</table>\n",
       "</div>"
      ],
      "text/plain": [
       "                   region  price  year manufacturer model condition cylinders  \\\n",
       "0                prescott   6000   NaN          NaN   NaN       NaN       NaN   \n",
       "1            fayetteville  11900   NaN          NaN   NaN       NaN       NaN   \n",
       "2            florida keys  21000   NaN          NaN   NaN       NaN       NaN   \n",
       "3  worcester / central MA   1500   NaN          NaN   NaN       NaN       NaN   \n",
       "4              greensboro   4900   NaN          NaN   NaN       NaN       NaN   \n",
       "\n",
       "  fuel  odometer title_status transmission drive type paint_color state  \n",
       "0  NaN       NaN          NaN          NaN   NaN  NaN         NaN    az  \n",
       "1  NaN       NaN          NaN          NaN   NaN  NaN         NaN    ar  \n",
       "2  NaN       NaN          NaN          NaN   NaN  NaN         NaN    fl  \n",
       "3  NaN       NaN          NaN          NaN   NaN  NaN         NaN    ma  \n",
       "4  NaN       NaN          NaN          NaN   NaN  NaN         NaN    nc  "
      ]
     },
     "execution_count": 1085,
     "metadata": {},
     "output_type": "execute_result"
    }
   ],
   "source": [
    "df2=vehicles_cleaned.copy()\n",
    "df2=df2.drop(columns=['id', 'VIN'])\n",
    "df2.head()"
   ]
  },
  {
   "cell_type": "code",
   "execution_count": 1086,
   "metadata": {},
   "outputs": [],
   "source": [
    "vech_df = df2.dropna()"
   ]
  },
  {
   "cell_type": "code",
   "execution_count": 1087,
   "metadata": {},
   "outputs": [
    {
     "data": {
      "text/plain": [
       "(115988, 15)"
      ]
     },
     "execution_count": 1087,
     "metadata": {},
     "output_type": "execute_result"
    }
   ],
   "source": [
    "vech_df.shape"
   ]
  },
  {
   "cell_type": "code",
   "execution_count": 1088,
   "metadata": {},
   "outputs": [
    {
     "data": {
      "text/plain": [
       "region          0\n",
       "price           0\n",
       "year            0\n",
       "manufacturer    0\n",
       "model           0\n",
       "condition       0\n",
       "cylinders       0\n",
       "fuel            0\n",
       "odometer        0\n",
       "title_status    0\n",
       "transmission    0\n",
       "drive           0\n",
       "type            0\n",
       "paint_color     0\n",
       "state           0\n",
       "dtype: int64"
      ]
     },
     "execution_count": 1088,
     "metadata": {},
     "output_type": "execute_result"
    }
   ],
   "source": [
    "vech_df.isnull().sum()"
   ]
  },
  {
   "cell_type": "code",
   "execution_count": 1089,
   "metadata": {},
   "outputs": [],
   "source": [
    "vech_df = vech_df[vech_df['price'] > 0]"
   ]
  },
  {
   "cell_type": "code",
   "execution_count": 1090,
   "metadata": {},
   "outputs": [
    {
     "data": {
      "text/plain": [
       "(111636, 15)"
      ]
     },
     "execution_count": 1090,
     "metadata": {},
     "output_type": "execute_result"
    }
   ],
   "source": [
    "vech_df.shape"
   ]
  },
  {
   "cell_type": "code",
   "execution_count": 1091,
   "metadata": {},
   "outputs": [
    {
     "data": {
      "text/plain": [
       "1"
      ]
     },
     "execution_count": 1091,
     "metadata": {},
     "output_type": "execute_result"
    }
   ],
   "source": [
    "vech_df.price.min()"
   ]
  },
  {
   "cell_type": "markdown",
   "metadata": {},
   "source": [
    "## Remove outliers of price "
   ]
  },
  {
   "cell_type": "code",
   "execution_count": 1092,
   "metadata": {},
   "outputs": [
    {
     "data": {
      "text/plain": [
       "31         True\n",
       "32         True\n",
       "33         True\n",
       "34         True\n",
       "35         True\n",
       "          ...  \n",
       "426859    False\n",
       "426860     True\n",
       "426866     True\n",
       "426874     True\n",
       "426878     True\n",
       "Name: price, Length: 111636, dtype: bool"
      ]
     },
     "execution_count": 1092,
     "metadata": {},
     "output_type": "execute_result"
    }
   ],
   "source": [
    "y = vech_df['price']\n",
    "price_no_outliers = y.between(y.quantile(.05), y.quantile(.95))\n",
    "price_no_outliers"
   ]
  },
  {
   "cell_type": "code",
   "execution_count": 1054,
   "metadata": {},
   "outputs": [
    {
     "data": {
      "text/plain": [
       "price\n",
       "True     100768\n",
       "False     10868\n",
       "Name: count, dtype: int64"
      ]
     },
     "execution_count": 1054,
     "metadata": {},
     "output_type": "execute_result"
    }
   ],
   "source": [
    "price_no_outliers.value_counts()"
   ]
  },
  {
   "cell_type": "code",
   "execution_count": 1093,
   "metadata": {},
   "outputs": [
    {
     "data": {
      "text/plain": [
       "count     111636\n",
       "unique         2\n",
       "top         True\n",
       "freq      100768\n",
       "Name: price, dtype: object"
      ]
     },
     "execution_count": 1093,
     "metadata": {},
     "output_type": "execute_result"
    }
   ],
   "source": [
    "price_no_outliers.describe()"
   ]
  },
  {
   "cell_type": "code",
   "execution_count": 1094,
   "metadata": {},
   "outputs": [
    {
     "name": "stdout",
     "output_type": "stream",
     "text": [
      "Index([   105,    260,    339,    342,    346,    365,    410,    413,    437,\n",
      "          439,\n",
      "       ...\n",
      "       426773, 426774, 426775, 426776, 426778, 426798, 426800, 426857, 426858,\n",
      "       426859],\n",
      "      dtype='int64', length=10868)\n"
     ]
    }
   ],
   "source": [
    "index_names = vech_df[~price_no_outliers].index # INVERT removed_outliers!!\n",
    "print(index_names)"
   ]
  },
  {
   "cell_type": "code",
   "execution_count": 1095,
   "metadata": {},
   "outputs": [],
   "source": [
    "vech_df.drop(index_names, inplace=True)"
   ]
  },
  {
   "cell_type": "code",
   "execution_count": 1096,
   "metadata": {},
   "outputs": [
    {
     "data": {
      "text/html": [
       "<div>\n",
       "<style scoped>\n",
       "    .dataframe tbody tr th:only-of-type {\n",
       "        vertical-align: middle;\n",
       "    }\n",
       "\n",
       "    .dataframe tbody tr th {\n",
       "        vertical-align: top;\n",
       "    }\n",
       "\n",
       "    .dataframe thead th {\n",
       "        text-align: right;\n",
       "    }\n",
       "</style>\n",
       "<table border=\"1\" class=\"dataframe\">\n",
       "  <thead>\n",
       "    <tr style=\"text-align: right;\">\n",
       "      <th></th>\n",
       "      <th>region</th>\n",
       "      <th>price</th>\n",
       "      <th>year</th>\n",
       "      <th>manufacturer</th>\n",
       "      <th>model</th>\n",
       "      <th>condition</th>\n",
       "      <th>cylinders</th>\n",
       "      <th>fuel</th>\n",
       "      <th>odometer</th>\n",
       "      <th>title_status</th>\n",
       "      <th>transmission</th>\n",
       "      <th>drive</th>\n",
       "      <th>type</th>\n",
       "      <th>paint_color</th>\n",
       "      <th>state</th>\n",
       "    </tr>\n",
       "  </thead>\n",
       "  <tbody>\n",
       "    <tr>\n",
       "      <th>260746</th>\n",
       "      <td>albuquerque</td>\n",
       "      <td>9900</td>\n",
       "      <td>2,010.00</td>\n",
       "      <td>honda</td>\n",
       "      <td>cr-v ex-l 4wd</td>\n",
       "      <td>good</td>\n",
       "      <td>4 cylinders</td>\n",
       "      <td>gas</td>\n",
       "      <td>173,000.00</td>\n",
       "      <td>clean</td>\n",
       "      <td>automatic</td>\n",
       "      <td>4wd</td>\n",
       "      <td>SUV</td>\n",
       "      <td>green</td>\n",
       "      <td>nm</td>\n",
       "    </tr>\n",
       "    <tr>\n",
       "      <th>175248</th>\n",
       "      <td>central louisiana</td>\n",
       "      <td>25990</td>\n",
       "      <td>2,013.00</td>\n",
       "      <td>mercedes-benz</td>\n",
       "      <td>e-class e 550</td>\n",
       "      <td>good</td>\n",
       "      <td>8 cylinders</td>\n",
       "      <td>gas</td>\n",
       "      <td>42,045.00</td>\n",
       "      <td>clean</td>\n",
       "      <td>automatic</td>\n",
       "      <td>rwd</td>\n",
       "      <td>coupe</td>\n",
       "      <td>white</td>\n",
       "      <td>la</td>\n",
       "    </tr>\n",
       "    <tr>\n",
       "      <th>257083</th>\n",
       "      <td>south jersey</td>\n",
       "      <td>6250</td>\n",
       "      <td>2,010.00</td>\n",
       "      <td>mazda</td>\n",
       "      <td>cx-7</td>\n",
       "      <td>like new</td>\n",
       "      <td>4 cylinders</td>\n",
       "      <td>gas</td>\n",
       "      <td>80,000.00</td>\n",
       "      <td>clean</td>\n",
       "      <td>automatic</td>\n",
       "      <td>fwd</td>\n",
       "      <td>SUV</td>\n",
       "      <td>purple</td>\n",
       "      <td>nj</td>\n",
       "    </tr>\n",
       "    <tr>\n",
       "      <th>280298</th>\n",
       "      <td>rochester</td>\n",
       "      <td>23995</td>\n",
       "      <td>2,016.00</td>\n",
       "      <td>cadillac</td>\n",
       "      <td>xts premium</td>\n",
       "      <td>excellent</td>\n",
       "      <td>6 cylinders</td>\n",
       "      <td>gas</td>\n",
       "      <td>42,400.00</td>\n",
       "      <td>clean</td>\n",
       "      <td>automatic</td>\n",
       "      <td>4wd</td>\n",
       "      <td>sedan</td>\n",
       "      <td>silver</td>\n",
       "      <td>ny</td>\n",
       "    </tr>\n",
       "    <tr>\n",
       "      <th>57594</th>\n",
       "      <td>san luis obispo</td>\n",
       "      <td>16995</td>\n",
       "      <td>2,014.00</td>\n",
       "      <td>ford</td>\n",
       "      <td>explorer</td>\n",
       "      <td>good</td>\n",
       "      <td>6 cylinders</td>\n",
       "      <td>gas</td>\n",
       "      <td>112,563.00</td>\n",
       "      <td>clean</td>\n",
       "      <td>automatic</td>\n",
       "      <td>rwd</td>\n",
       "      <td>wagon</td>\n",
       "      <td>black</td>\n",
       "      <td>ca</td>\n",
       "    </tr>\n",
       "    <tr>\n",
       "      <th>415885</th>\n",
       "      <td>appleton-oshkosh-FDL</td>\n",
       "      <td>3800</td>\n",
       "      <td>2,007.00</td>\n",
       "      <td>saturn</td>\n",
       "      <td>ion</td>\n",
       "      <td>good</td>\n",
       "      <td>4 cylinders</td>\n",
       "      <td>gas</td>\n",
       "      <td>138,000.00</td>\n",
       "      <td>clean</td>\n",
       "      <td>automatic</td>\n",
       "      <td>fwd</td>\n",
       "      <td>sedan</td>\n",
       "      <td>white</td>\n",
       "      <td>wi</td>\n",
       "    </tr>\n",
       "    <tr>\n",
       "      <th>115710</th>\n",
       "      <td>tallahassee</td>\n",
       "      <td>17994</td>\n",
       "      <td>2,013.00</td>\n",
       "      <td>ford</td>\n",
       "      <td>f150 supercrew cab xlt</td>\n",
       "      <td>like new</td>\n",
       "      <td>8 cylinders</td>\n",
       "      <td>gas</td>\n",
       "      <td>191,283.00</td>\n",
       "      <td>clean</td>\n",
       "      <td>automatic</td>\n",
       "      <td>4wd</td>\n",
       "      <td>pickup</td>\n",
       "      <td>silver</td>\n",
       "      <td>fl</td>\n",
       "    </tr>\n",
       "    <tr>\n",
       "      <th>192502</th>\n",
       "      <td>worcester / central MA</td>\n",
       "      <td>2900</td>\n",
       "      <td>2,002.00</td>\n",
       "      <td>jaguar</td>\n",
       "      <td>xtype 4 door</td>\n",
       "      <td>like new</td>\n",
       "      <td>6 cylinders</td>\n",
       "      <td>gas</td>\n",
       "      <td>160,000.00</td>\n",
       "      <td>clean</td>\n",
       "      <td>automatic</td>\n",
       "      <td>rwd</td>\n",
       "      <td>coupe</td>\n",
       "      <td>white</td>\n",
       "      <td>ma</td>\n",
       "    </tr>\n",
       "    <tr>\n",
       "      <th>309977</th>\n",
       "      <td>tulsa</td>\n",
       "      <td>36490</td>\n",
       "      <td>2,018.00</td>\n",
       "      <td>ford</td>\n",
       "      <td>e-series cutaway</td>\n",
       "      <td>good</td>\n",
       "      <td>10 cylinders</td>\n",
       "      <td>gas</td>\n",
       "      <td>16,535.00</td>\n",
       "      <td>clean</td>\n",
       "      <td>automatic</td>\n",
       "      <td>rwd</td>\n",
       "      <td>truck</td>\n",
       "      <td>white</td>\n",
       "      <td>ok</td>\n",
       "    </tr>\n",
       "    <tr>\n",
       "      <th>417674</th>\n",
       "      <td>green bay</td>\n",
       "      <td>6495</td>\n",
       "      <td>2,007.00</td>\n",
       "      <td>pontiac</td>\n",
       "      <td>vibe</td>\n",
       "      <td>good</td>\n",
       "      <td>4 cylinders</td>\n",
       "      <td>gas</td>\n",
       "      <td>105,206.00</td>\n",
       "      <td>clean</td>\n",
       "      <td>manual</td>\n",
       "      <td>fwd</td>\n",
       "      <td>hatchback</td>\n",
       "      <td>grey</td>\n",
       "      <td>wi</td>\n",
       "    </tr>\n",
       "    <tr>\n",
       "      <th>267021</th>\n",
       "      <td>buffalo</td>\n",
       "      <td>21499</td>\n",
       "      <td>2,013.00</td>\n",
       "      <td>ram</td>\n",
       "      <td>1500 4x4 crew cab</td>\n",
       "      <td>excellent</td>\n",
       "      <td>8 cylinders</td>\n",
       "      <td>gas</td>\n",
       "      <td>93,086.00</td>\n",
       "      <td>clean</td>\n",
       "      <td>automatic</td>\n",
       "      <td>4wd</td>\n",
       "      <td>pickup</td>\n",
       "      <td>grey</td>\n",
       "      <td>ny</td>\n",
       "    </tr>\n",
       "    <tr>\n",
       "      <th>121478</th>\n",
       "      <td>atlanta</td>\n",
       "      <td>11999</td>\n",
       "      <td>2,013.00</td>\n",
       "      <td>cadillac</td>\n",
       "      <td>cts</td>\n",
       "      <td>good</td>\n",
       "      <td>10 cylinders</td>\n",
       "      <td>gas</td>\n",
       "      <td>68,786.00</td>\n",
       "      <td>clean</td>\n",
       "      <td>automatic</td>\n",
       "      <td>4wd</td>\n",
       "      <td>coupe</td>\n",
       "      <td>white</td>\n",
       "      <td>ga</td>\n",
       "    </tr>\n",
       "    <tr>\n",
       "      <th>276461</th>\n",
       "      <td>new york city</td>\n",
       "      <td>32590</td>\n",
       "      <td>2,011.00</td>\n",
       "      <td>bmw</td>\n",
       "      <td>m3 convertible 2d</td>\n",
       "      <td>good</td>\n",
       "      <td>8 cylinders</td>\n",
       "      <td>gas</td>\n",
       "      <td>44,429.00</td>\n",
       "      <td>clean</td>\n",
       "      <td>other</td>\n",
       "      <td>rwd</td>\n",
       "      <td>other</td>\n",
       "      <td>white</td>\n",
       "      <td>ny</td>\n",
       "    </tr>\n",
       "    <tr>\n",
       "      <th>195345</th>\n",
       "      <td>central michigan</td>\n",
       "      <td>14000</td>\n",
       "      <td>2,005.00</td>\n",
       "      <td>chevrolet</td>\n",
       "      <td>silverado</td>\n",
       "      <td>good</td>\n",
       "      <td>8 cylinders</td>\n",
       "      <td>diesel</td>\n",
       "      <td>228,000.00</td>\n",
       "      <td>clean</td>\n",
       "      <td>automatic</td>\n",
       "      <td>4wd</td>\n",
       "      <td>pickup</td>\n",
       "      <td>white</td>\n",
       "      <td>mi</td>\n",
       "    </tr>\n",
       "    <tr>\n",
       "      <th>152068</th>\n",
       "      <td>indianapolis</td>\n",
       "      <td>12000</td>\n",
       "      <td>2,014.00</td>\n",
       "      <td>toyota</td>\n",
       "      <td>corolla</td>\n",
       "      <td>excellent</td>\n",
       "      <td>4 cylinders</td>\n",
       "      <td>gas</td>\n",
       "      <td>47,242.00</td>\n",
       "      <td>clean</td>\n",
       "      <td>automatic</td>\n",
       "      <td>fwd</td>\n",
       "      <td>sedan</td>\n",
       "      <td>black</td>\n",
       "      <td>in</td>\n",
       "    </tr>\n",
       "    <tr>\n",
       "      <th>267969</th>\n",
       "      <td>buffalo</td>\n",
       "      <td>31900</td>\n",
       "      <td>2,011.00</td>\n",
       "      <td>dodge</td>\n",
       "      <td>2500</td>\n",
       "      <td>good</td>\n",
       "      <td>6 cylinders</td>\n",
       "      <td>diesel</td>\n",
       "      <td>169,000.00</td>\n",
       "      <td>clean</td>\n",
       "      <td>automatic</td>\n",
       "      <td>4wd</td>\n",
       "      <td>pickup</td>\n",
       "      <td>white</td>\n",
       "      <td>ny</td>\n",
       "    </tr>\n",
       "    <tr>\n",
       "      <th>21485</th>\n",
       "      <td>bakersfield</td>\n",
       "      <td>39950</td>\n",
       "      <td>2,015.00</td>\n",
       "      <td>ram</td>\n",
       "      <td>2500 crew cab</td>\n",
       "      <td>excellent</td>\n",
       "      <td>8 cylinders</td>\n",
       "      <td>gas</td>\n",
       "      <td>86,351.00</td>\n",
       "      <td>clean</td>\n",
       "      <td>automatic</td>\n",
       "      <td>4wd</td>\n",
       "      <td>truck</td>\n",
       "      <td>black</td>\n",
       "      <td>ca</td>\n",
       "    </tr>\n",
       "    <tr>\n",
       "      <th>201177</th>\n",
       "      <td>grand rapids</td>\n",
       "      <td>23765</td>\n",
       "      <td>2,016.00</td>\n",
       "      <td>chrysler</td>\n",
       "      <td>300</td>\n",
       "      <td>excellent</td>\n",
       "      <td>6 cylinders</td>\n",
       "      <td>gas</td>\n",
       "      <td>33,000.00</td>\n",
       "      <td>clean</td>\n",
       "      <td>automatic</td>\n",
       "      <td>4wd</td>\n",
       "      <td>sedan</td>\n",
       "      <td>black</td>\n",
       "      <td>mi</td>\n",
       "    </tr>\n",
       "    <tr>\n",
       "      <th>99019</th>\n",
       "      <td>jacksonville</td>\n",
       "      <td>4000</td>\n",
       "      <td>2,003.00</td>\n",
       "      <td>ford</td>\n",
       "      <td>f150</td>\n",
       "      <td>good</td>\n",
       "      <td>8 cylinders</td>\n",
       "      <td>gas</td>\n",
       "      <td>245,000.00</td>\n",
       "      <td>clean</td>\n",
       "      <td>automatic</td>\n",
       "      <td>4wd</td>\n",
       "      <td>truck</td>\n",
       "      <td>green</td>\n",
       "      <td>fl</td>\n",
       "    </tr>\n",
       "    <tr>\n",
       "      <th>543</th>\n",
       "      <td>birmingham</td>\n",
       "      <td>10900</td>\n",
       "      <td>2,010.00</td>\n",
       "      <td>honda</td>\n",
       "      <td>accord crosstour exl</td>\n",
       "      <td>good</td>\n",
       "      <td>6 cylinders</td>\n",
       "      <td>gas</td>\n",
       "      <td>97,804.00</td>\n",
       "      <td>clean</td>\n",
       "      <td>automatic</td>\n",
       "      <td>fwd</td>\n",
       "      <td>wagon</td>\n",
       "      <td>grey</td>\n",
       "      <td>al</td>\n",
       "    </tr>\n",
       "  </tbody>\n",
       "</table>\n",
       "</div>"
      ],
      "text/plain": [
       "                        region  price     year   manufacturer  \\\n",
       "260746             albuquerque   9900 2,010.00          honda   \n",
       "175248       central louisiana  25990 2,013.00  mercedes-benz   \n",
       "257083            south jersey   6250 2,010.00          mazda   \n",
       "280298               rochester  23995 2,016.00       cadillac   \n",
       "57594          san luis obispo  16995 2,014.00           ford   \n",
       "415885    appleton-oshkosh-FDL   3800 2,007.00         saturn   \n",
       "115710             tallahassee  17994 2,013.00           ford   \n",
       "192502  worcester / central MA   2900 2,002.00         jaguar   \n",
       "309977                   tulsa  36490 2,018.00           ford   \n",
       "417674               green bay   6495 2,007.00        pontiac   \n",
       "267021                 buffalo  21499 2,013.00            ram   \n",
       "121478                 atlanta  11999 2,013.00       cadillac   \n",
       "276461           new york city  32590 2,011.00            bmw   \n",
       "195345        central michigan  14000 2,005.00      chevrolet   \n",
       "152068            indianapolis  12000 2,014.00         toyota   \n",
       "267969                 buffalo  31900 2,011.00          dodge   \n",
       "21485              bakersfield  39950 2,015.00            ram   \n",
       "201177            grand rapids  23765 2,016.00       chrysler   \n",
       "99019             jacksonville   4000 2,003.00           ford   \n",
       "543                 birmingham  10900 2,010.00          honda   \n",
       "\n",
       "                         model  condition     cylinders    fuel   odometer  \\\n",
       "260746           cr-v ex-l 4wd       good   4 cylinders     gas 173,000.00   \n",
       "175248           e-class e 550       good   8 cylinders     gas  42,045.00   \n",
       "257083                    cx-7   like new   4 cylinders     gas  80,000.00   \n",
       "280298             xts premium  excellent   6 cylinders     gas  42,400.00   \n",
       "57594                 explorer       good   6 cylinders     gas 112,563.00   \n",
       "415885                     ion       good   4 cylinders     gas 138,000.00   \n",
       "115710  f150 supercrew cab xlt   like new   8 cylinders     gas 191,283.00   \n",
       "192502            xtype 4 door   like new   6 cylinders     gas 160,000.00   \n",
       "309977        e-series cutaway       good  10 cylinders     gas  16,535.00   \n",
       "417674                    vibe       good   4 cylinders     gas 105,206.00   \n",
       "267021       1500 4x4 crew cab  excellent   8 cylinders     gas  93,086.00   \n",
       "121478                     cts       good  10 cylinders     gas  68,786.00   \n",
       "276461       m3 convertible 2d       good   8 cylinders     gas  44,429.00   \n",
       "195345               silverado       good   8 cylinders  diesel 228,000.00   \n",
       "152068                 corolla  excellent   4 cylinders     gas  47,242.00   \n",
       "267969                    2500       good   6 cylinders  diesel 169,000.00   \n",
       "21485            2500 crew cab  excellent   8 cylinders     gas  86,351.00   \n",
       "201177                     300  excellent   6 cylinders     gas  33,000.00   \n",
       "99019                     f150       good   8 cylinders     gas 245,000.00   \n",
       "543       accord crosstour exl       good   6 cylinders     gas  97,804.00   \n",
       "\n",
       "       title_status transmission drive       type paint_color state  \n",
       "260746        clean    automatic   4wd        SUV       green    nm  \n",
       "175248        clean    automatic   rwd      coupe       white    la  \n",
       "257083        clean    automatic   fwd        SUV      purple    nj  \n",
       "280298        clean    automatic   4wd      sedan      silver    ny  \n",
       "57594         clean    automatic   rwd      wagon       black    ca  \n",
       "415885        clean    automatic   fwd      sedan       white    wi  \n",
       "115710        clean    automatic   4wd     pickup      silver    fl  \n",
       "192502        clean    automatic   rwd      coupe       white    ma  \n",
       "309977        clean    automatic   rwd      truck       white    ok  \n",
       "417674        clean       manual   fwd  hatchback        grey    wi  \n",
       "267021        clean    automatic   4wd     pickup        grey    ny  \n",
       "121478        clean    automatic   4wd      coupe       white    ga  \n",
       "276461        clean        other   rwd      other       white    ny  \n",
       "195345        clean    automatic   4wd     pickup       white    mi  \n",
       "152068        clean    automatic   fwd      sedan       black    in  \n",
       "267969        clean    automatic   4wd     pickup       white    ny  \n",
       "21485         clean    automatic   4wd      truck       black    ca  \n",
       "201177        clean    automatic   4wd      sedan       black    mi  \n",
       "99019         clean    automatic   4wd      truck       green    fl  \n",
       "543           clean    automatic   fwd      wagon        grey    al  "
      ]
     },
     "execution_count": 1096,
     "metadata": {},
     "output_type": "execute_result"
    }
   ],
   "source": [
    "vech_df.sample(20)"
   ]
  },
  {
   "cell_type": "code",
   "execution_count": 1097,
   "metadata": {},
   "outputs": [
    {
     "name": "stdout",
     "output_type": "stream",
     "text": [
      "31    2013\n",
      "32    2012\n",
      "33    2016\n",
      "34    2019\n",
      "35    2016\n",
      "Name: year, dtype: int32\n"
     ]
    }
   ],
   "source": [
    "vech_df['year'] = vech_df['year'].fillna(0).astype(int)\n",
    "print(vech_df['year'].head())"
   ]
  },
  {
   "cell_type": "code",
   "execution_count": 1098,
   "metadata": {},
   "outputs": [
    {
     "data": {
      "image/png": "[encoded data removed]",
      "text/plain": [
       "<Figure size 500x500 with 1 Axes>"
      ]
     },
     "metadata": {},
     "output_type": "display_data"
    }
   ],
   "source": [
    "sns.displot(vech_df.price)\n",
    "plt.tight_layout()\n",
    "plt.title(\"Price Distribution\")\n",
    "plt.show()"
   ]
  },
  {
   "cell_type": "code",
   "execution_count": 1099,
   "metadata": {},
   "outputs": [
    {
     "data": {
      "image/png": "[encoded data removed]",
      "text/plain": [
       "<Figure size 500x400 with 1 Axes>"
      ]
     },
     "metadata": {},
     "output_type": "display_data"
    }
   ],
   "source": [
    "fig,axs=plt.subplots()\n",
    "fig.set_size_inches(5,4)\n",
    "\n",
    "p1=sns.barplot(x='fuel',y='price',data=vech_df,ax=axs)\n",
    "plt.title(\"Price vs Fuel\")\n",
    "plt.show()"
   ]
  },
  {
   "cell_type": "code",
   "execution_count": 1100,
   "metadata": {},
   "outputs": [
    {
     "data": {
      "image/png": "[encoded data removed]",
      "text/plain": [
       "<Figure size 1000x500 with 1 Axes>"
      ]
     },
     "metadata": {},
     "output_type": "display_data"
    }
   ],
   "source": [
    "plt.figure(figsize=(10,5))\n",
    "sns.barplot(x='fuel',y='price',hue='condition',data=vech_df)\n",
    "plt.show()"
   ]
  },
  {
   "cell_type": "code",
   "execution_count": 1063,
   "metadata": {},
   "outputs": [
    {
     "data": {
      "image/png": "[encoded data removed]",
      "text/plain": [
       "<Figure size 2000x1000 with 2 Axes>"
      ]
     },
     "metadata": {},
     "output_type": "display_data"
    }
   ],
   "source": [
    "fig,axs=plt.subplots(nrows=2)\n",
    "fig.set_size_inches(20,10)\n",
    "sns.barplot(x='year',y='price',data=vech_df,ax=axs[0])\n",
    "sns.barplot(x=vech_df.groupby('year').count()['price'].index, \n",
    "            y=vech_df.groupby('year').count()['price'].values, \n",
    "            ax=axs[1])\n",
    "\n",
    "axs[1].set_ylabel('Number of cars')\n",
    "plt.tight_layout()\n",
    "plt.show()"
   ]
  },
  {
   "cell_type": "code",
   "execution_count": 1102,
   "metadata": {},
   "outputs": [
    {
     "data": {
      "image/png": "[encoded data removed]",
      "text/plain": [
       "<Figure size 1500x800 with 2 Axes>"
      ]
     },
     "metadata": {},
     "output_type": "display_data"
    }
   ],
   "source": [
    "fig,axs=plt.subplots(nrows=2)\n",
    "fig.set_size_inches(15,8)\n",
    "sns.barplot(x='type',y='price',data=vech_df,ax=axs[0])\n",
    "sns.barplot(x='manufacturer',y='price',data=vech_df,ax=axs[1])\n",
    "axs[1].set_xticklabels(vech_df.manufacturer.unique(),rotation=91)\n",
    "plt.tight_layout()\n",
    "plt.show()"
   ]
  },
  {
   "cell_type": "code",
   "execution_count": 1103,
   "metadata": {},
   "outputs": [
    {
     "data": {
      "image/png": "[encoded data removed]",
      "text/plain": [
       "<Figure size 1000x400 with 2 Axes>"
      ]
     },
     "metadata": {},
     "output_type": "display_data"
    }
   ],
   "source": [
    "fig, axs = plt.subplots(ncols=2)\n",
    "fig.set_size_inches(10, 4)\n",
    "\n",
    "# For the first plot\n",
    "sns.barplot(x=vech_df.groupby('condition').count()['price'].index,\n",
    "            y=vech_df.groupby('condition').count()['price'].values,\n",
    "            ax=axs[0])\n",
    "\n",
    "# For the second plot\n",
    "sns.barplot(x=vech_df.groupby('transmission').count()['price'].index,\n",
    "            y=vech_df.groupby('transmission').count()['price'].values,\n",
    "            ax=axs[1])\n",
    "\n",
    "# Adjust layout\n",
    "plt.tight_layout()\n",
    "plt.show()"
   ]
  },
  {
   "cell_type": "code",
   "execution_count": 1104,
   "metadata": {},
   "outputs": [
    {
     "data": {
      "image/png": "[encoded data removed]",
      "text/plain": [
       "<Figure size 500x500 with 1 Axes>"
      ]
     },
     "metadata": {},
     "output_type": "display_data"
    }
   ],
   "source": [
    "fig,axs=plt.subplots()\n",
    "fig.set_size_inches(5,5)\n",
    "\n",
    "\n",
    "p1=sns.barplot(x='title_status',y='price',data=vech_df,ax=axs)\n",
    "\n",
    "plt.show()"
   ]
  },
  {
   "cell_type": "code",
   "execution_count": null,
   "metadata": {},
   "outputs": [],
   "source": []
  },
  {
   "cell_type": "code",
   "execution_count": null,
   "metadata": {},
   "outputs": [],
   "source": []
  },
  {
   "cell_type": "markdown",
   "metadata": {},
   "source": [
    "### Data Understanding\n",
    "\n",
    "After considering the business understanding, we want to get familiar with our data.  Write down some steps that you would take to get to know the dataset and identify any quality issues within.  Take time to get to know the dataset and explore what information it contains and how this could be used to inform your business understanding."
   ]
  },
  {
   "cell_type": "code",
   "execution_count": 1105,
   "metadata": {},
   "outputs": [
    {
     "data": {
      "text/plain": [
       "(100768, 15)"
      ]
     },
     "execution_count": 1105,
     "metadata": {},
     "output_type": "execute_result"
    }
   ],
   "source": [
    "vech_df.dropna().shape  "
   ]
  },
  {
   "cell_type": "code",
   "execution_count": 1106,
   "metadata": {},
   "outputs": [
    {
     "data": {
      "text/plain": [
       "Index(['region', 'price', 'year', 'manufacturer', 'model', 'condition',\n",
       "       'cylinders', 'fuel', 'odometer', 'title_status', 'transmission',\n",
       "       'drive', 'type', 'paint_color', 'state'],\n",
       "      dtype='object')"
      ]
     },
     "execution_count": 1106,
     "metadata": {},
     "output_type": "execute_result"
    }
   ],
   "source": [
    "vech_df.columns"
   ]
  },
  {
   "cell_type": "code",
   "execution_count": 1107,
   "metadata": {},
   "outputs": [
    {
     "data": {
      "text/plain": [
       "'Categorical Columns are:'"
      ]
     },
     "metadata": {},
     "output_type": "display_data"
    },
    {
     "data": {
      "text/plain": [
       "Index(['region', 'manufacturer', 'model', 'condition', 'cylinders', 'fuel',\n",
       "       'title_status', 'transmission', 'drive', 'type', 'paint_color',\n",
       "       'state'],\n",
       "      dtype='object')"
      ]
     },
     "metadata": {},
     "output_type": "display_data"
    },
    {
     "data": {
      "text/plain": [
       "'Numerical Columns are:'"
      ]
     },
     "metadata": {},
     "output_type": "display_data"
    },
    {
     "data": {
      "text/plain": [
       "Index(['price', 'odometer'], dtype='object')"
      ]
     },
     "metadata": {},
     "output_type": "display_data"
    }
   ],
   "source": [
    "#categorical and numerical features. \n",
    "cat_col = vech_df.select_dtypes(include=['object', 'category']).columns\n",
    "num_col = vech_df.select_dtypes(include = ['int64','float64']).columns \n",
    "display (\"Categorical Columns are:\", cat_col)\n",
    "display (\"Numerical Columns are:\", num_col)"
   ]
  },
  {
   "cell_type": "markdown",
   "metadata": {},
   "source": [
    "## Handling Non-Numeric Columns"
   ]
  },
  {
   "cell_type": "code",
   "execution_count": 1108,
   "metadata": {},
   "outputs": [],
   "source": [
    "vech_df['condition'] = vech_df['condition'].map({'excellent': 5,\n",
    "                                       'new': 4.5, # mean age of new cars' ~9 -- could be false labelling\n",
    "                                       'good': 4,\n",
    "                                       'like new':3,\n",
    "                                       'fair': 2,\n",
    "                                       'salvage': 1,\n",
    "                                       'unknown': 0})\n",
    "\n",
    "vech_df['cylinders'] = vech_df['cylinders'].map({'12 cylinders': 12,\n",
    "                                       '10 cylinders': 10,\n",
    "                                       '8 cylinders': 8,\n",
    "                                       '6 cylinders':6,\n",
    "                                       '5 cylinders': 5,\n",
    "                                       '4 cylinders': 4,\n",
    "                                       '3 cylinders': 3,\n",
    "                                       'other': 1, # not sure what it means -- more than 12 or less than 3?\n",
    "                                       'unknown': 1 }) # a car must have at least one cylinder\n",
    "\n"
   ]
  },
  {
   "cell_type": "code",
   "execution_count": 1119,
   "metadata": {},
   "outputs": [
    {
     "data": {
      "text/plain": [
       "region            403\n",
       "price            4168\n",
       "year              101\n",
       "manufacturer       40\n",
       "model           10334\n",
       "condition           6\n",
       "cylinders           8\n",
       "fuel                5\n",
       "odometer        33557\n",
       "title_status        6\n",
       "transmission        3\n",
       "drive               3\n",
       "type               13\n",
       "paint_color        12\n",
       "state              51\n",
       "age               101\n",
       "dtype: int64"
      ]
     },
     "execution_count": 1119,
     "metadata": {},
     "output_type": "execute_result"
    }
   ],
   "source": [
    "# Check for unique values for each features \n",
    "vech_df.nunique()"
   ]
  },
  {
   "cell_type": "code",
   "execution_count": 1120,
   "metadata": {},
   "outputs": [
    {
     "data": {
      "text/html": [
       "<div>\n",
       "<style scoped>\n",
       "    .dataframe tbody tr th:only-of-type {\n",
       "        vertical-align: middle;\n",
       "    }\n",
       "\n",
       "    .dataframe tbody tr th {\n",
       "        vertical-align: top;\n",
       "    }\n",
       "\n",
       "    .dataframe thead th {\n",
       "        text-align: right;\n",
       "    }\n",
       "</style>\n",
       "<table border=\"1\" class=\"dataframe\">\n",
       "  <thead>\n",
       "    <tr style=\"text-align: right;\">\n",
       "      <th></th>\n",
       "      <th>age</th>\n",
       "      <th>price</th>\n",
       "      <th>odometer</th>\n",
       "    </tr>\n",
       "  </thead>\n",
       "  <tbody>\n",
       "    <tr>\n",
       "      <th>age</th>\n",
       "      <td>1.00</td>\n",
       "      <td>-0.35</td>\n",
       "      <td>0.15</td>\n",
       "    </tr>\n",
       "    <tr>\n",
       "      <th>price</th>\n",
       "      <td>-0.35</td>\n",
       "      <td>1.00</td>\n",
       "      <td>-0.22</td>\n",
       "    </tr>\n",
       "    <tr>\n",
       "      <th>odometer</th>\n",
       "      <td>0.15</td>\n",
       "      <td>-0.22</td>\n",
       "      <td>1.00</td>\n",
       "    </tr>\n",
       "  </tbody>\n",
       "</table>\n",
       "</div>"
      ],
      "text/plain": [
       "           age  price  odometer\n",
       "age       1.00  -0.35      0.15\n",
       "price    -0.35   1.00     -0.22\n",
       "odometer  0.15  -0.22      1.00"
      ]
     },
     "execution_count": 1120,
     "metadata": {},
     "output_type": "execute_result"
    }
   ],
   "source": [
    "# Remove old cars and create an age column\n",
    "#To check car's age for clear correlation\n",
    "\n",
    "vech_df['age'] = 2000 - vech_df['year'] \n",
    "\n",
    "vech_df[['age', 'price', 'odometer']].corr()"
   ]
  },
  {
   "cell_type": "code",
   "execution_count": 1121,
   "metadata": {},
   "outputs": [
    {
     "data": {
      "text/plain": [
       "2300"
      ]
     },
     "execution_count": 1121,
     "metadata": {},
     "output_type": "execute_result"
    }
   ],
   "source": [
    "vech_df.price.min()"
   ]
  },
  {
   "cell_type": "code",
   "execution_count": 1122,
   "metadata": {},
   "outputs": [
    {
     "data": {
      "text/plain": [
       "39990"
      ]
     },
     "execution_count": 1122,
     "metadata": {},
     "output_type": "execute_result"
    }
   ],
   "source": [
    "vech_df.price.max()"
   ]
  },
  {
   "cell_type": "code",
   "execution_count": 1123,
   "metadata": {},
   "outputs": [],
   "source": [
    "#df.drop(columns = ['region', 'state', 'model'], inplace = True)"
   ]
  },
  {
   "cell_type": "code",
   "execution_count": 1124,
   "metadata": {},
   "outputs": [
    {
     "data": {
      "text/plain": [
       "'Categorical Columns are:'"
      ]
     },
     "metadata": {},
     "output_type": "display_data"
    },
    {
     "data": {
      "text/plain": [
       "Index(['region', 'manufacturer', 'model', 'fuel', 'title_status',\n",
       "       'transmission', 'drive', 'type', 'paint_color', 'state'],\n",
       "      dtype='object')"
      ]
     },
     "metadata": {},
     "output_type": "display_data"
    },
    {
     "data": {
      "text/plain": [
       "'Numerical Columns are:'"
      ]
     },
     "metadata": {},
     "output_type": "display_data"
    },
    {
     "data": {
      "text/plain": [
       "Index(['price', 'condition', 'cylinders', 'odometer'], dtype='object')"
      ]
     },
     "metadata": {},
     "output_type": "display_data"
    }
   ],
   "source": [
    "#categorical and numerical features. \n",
    "cat_col = vech_df.select_dtypes(include=['object', 'category']).columns\n",
    "num_col = vech_df.select_dtypes(include = ['int64','float64']).columns \n",
    "display (\"Categorical Columns are:\", cat_col)\n",
    "display (\"Numerical Columns are:\", num_col)"
   ]
  },
  {
   "cell_type": "code",
   "execution_count": 1125,
   "metadata": {},
   "outputs": [
    {
     "name": "stdout",
     "output_type": "stream",
     "text": [
      "manufacturer\n",
      "0 % of the columns is na\n",
      "                 count percentage\n",
      "manufacturer                     \n",
      "ford             17644      17.5%\n",
      "chevrolet        15240      15.1%\n",
      "toyota            8919       8.9%\n",
      "honda             6045       6.0%\n",
      "nissan            5638       5.6%\n",
      "jeep              5081       5.0%\n",
      "gmc               4113       4.1%\n",
      "dodge             3630       3.6%\n",
      "ram               3238       3.2%\n",
      "bmw               2818       2.8%\n",
      "subaru            2523       2.5%\n",
      "mercedes-benz     2465       2.4%\n",
      "hyundai           2372       2.4%\n",
      "volkswagen        2177       2.2%\n",
      "lexus             2012       2.0%\n",
      "chrysler          1791       1.8%\n",
      "kia               1787       1.8%\n",
      "cadillac          1405       1.4%\n",
      "infiniti          1333       1.3%\n",
      "buick             1326       1.3%\n",
      "mazda             1228       1.2%\n",
      "audi              1143       1.1%\n",
      "acura             1072       1.1%\n",
      "lincoln            964       1.0%\n",
      "pontiac            805       0.8%\n",
      "mitsubishi         804       0.8%\n",
      "volvo              707       0.7%\n",
      "mini               510       0.5%\n",
      "mercury            411       0.4%\n",
      "saturn             351       0.3%\n",
      "jaguar             340       0.3%\n",
      "rover              334       0.3%\n",
      "porsche            263       0.3%\n",
      "fiat               165       0.2%\n",
      "alfa-romeo          41       0.0%\n",
      "harley-davidson     31       0.0%\n",
      "datsun              20       0.0%\n",
      "tesla               15       0.0%\n",
      "land rover           6       0.0%\n",
      "aston-martin         1       0.0% \n",
      "\n",
      "\n",
      "condition\n",
      "0 % of the columns is na\n",
      "           count percentage\n",
      "condition                  \n",
      "5.00       45815      45.5%\n",
      "4.00       41909      41.6%\n",
      "3.00       10313      10.2%\n",
      "2.00        2265       2.2%\n",
      "4.50         339       0.3%\n",
      "1.00         127       0.1% \n",
      "\n",
      "\n",
      "cylinders\n",
      "0 % of the columns is na\n",
      "           count percentage\n",
      "cylinders                  \n",
      "6          37630      37.3%\n",
      "4          32319      32.1%\n",
      "8          28953      28.7%\n",
      "5            832       0.8%\n",
      "10           561       0.6%\n",
      "1            252       0.3%\n",
      "3            174       0.2%\n",
      "12            47       0.0% \n",
      "\n",
      "\n",
      "fuel\n",
      "0 % of the columns is na\n",
      "          count percentage\n",
      "fuel                      \n",
      "gas       93460      92.7%\n",
      "diesel     4449       4.4%\n",
      "other      1488       1.5%\n",
      "hybrid     1222       1.2%\n",
      "electric    149       0.1% \n",
      "\n",
      "\n",
      "title_status\n",
      "0 % of the columns is na\n",
      "              count percentage\n",
      "title_status                  \n",
      "clean         95303      94.6%\n",
      "rebuilt        3313       3.3%\n",
      "salvage        1261       1.3%\n",
      "lien            748       0.7%\n",
      "missing         121       0.1%\n",
      "parts only       22       0.0% \n",
      "\n",
      "\n",
      "transmission\n",
      "0 % of the columns is na\n",
      "              count percentage\n",
      "transmission                  \n",
      "automatic     82960      82.3%\n",
      "other         10682      10.6%\n",
      "manual         7126       7.1% \n",
      "\n",
      "\n",
      "drive\n",
      "0 % of the columns is na\n",
      "       count percentage\n",
      "drive                  \n",
      "4wd    41560      41.2%\n",
      "fwd    35265      35.0%\n",
      "rwd    23943      23.8% \n",
      "\n",
      "\n",
      "type\n",
      "0 % of the columns is na\n",
      "             count percentage\n",
      "type                         \n",
      "sedan        27353      27.1%\n",
      "SUV          24256      24.1%\n",
      "truck        12339      12.2%\n",
      "pickup       11038      11.0%\n",
      "coupe         7077       7.0%\n",
      "hatchback     4057       4.0%\n",
      "van           3124       3.1%\n",
      "other         3025       3.0%\n",
      "convertible   2971       2.9%\n",
      "wagon         2623       2.6%\n",
      "mini-van      2344       2.3%\n",
      "offroad        424       0.4%\n",
      "bus            137       0.1% \n",
      "\n",
      "\n",
      "paint_color\n",
      "0 % of the columns is na\n",
      "             count percentage\n",
      "paint_color                  \n",
      "white        23747      23.6%\n",
      "black        18958      18.8%\n",
      "silver       14967      14.9%\n",
      "blue         11170      11.1%\n",
      "grey         11055      11.0%\n",
      "red          10900      10.8%\n",
      "green         3110       3.1%\n",
      "brown         2921       2.9%\n",
      "custom        2248       2.2%\n",
      "yellow         826       0.8%\n",
      "orange         572       0.6%\n",
      "purple         294       0.3% \n",
      "\n",
      "\n"
     ]
    }
   ],
   "source": [
    "for col in ['manufacturer', 'condition', 'cylinders', 'fuel', 'title_status', 'transmission', 'drive', 'type', 'paint_color']:\n",
    "    counts = vech_df[col].value_counts()\n",
    "    perc = vech_df[col].value_counts(normalize = True).mul(100).round(1).astype(str) + '%'\n",
    "    nas = vech_df[col].isna().sum()\n",
    "    print(col)\n",
    "    print(((vech_df[col].isna().sum() / vech_df.shape[0]).round(2)*100).astype(str).split('.')[0], '% of the columns is na')\n",
    "    print(pd.DataFrame({'count': counts, 'percentage': perc}), '\\n\\n')"
   ]
  },
  {
   "cell_type": "markdown",
   "metadata": {},
   "source": [
    "1. Majority of the cars are manufactured by ford or chevrolet.\n",
    "2. The condition of 45% of the cars is excellent. Among the condition-known cars, almost half of them are in good or excellent shape.\n",
    "3. The cyclinder counts most of them has 4 or 6 cylinders.\n",
    "4. Great majority of the cars's fuel is gas.\n",
    "5. Almost every car is stated as clean. (title_status)\n",
    "6. Majority of the cars have automatic trasmission.\n",
    "7. The drive type of almost half of them are 4 wheel drive.\n",
    "8. The type of most cars is sedan and SUV.\n",
    "9. The color of most of the cars is white and black."
   ]
  },
  {
   "cell_type": "code",
   "execution_count": 1126,
   "metadata": {},
   "outputs": [
    {
     "name": "stdout",
     "output_type": "stream",
     "text": [
      "0 % of the columns is na\n",
      "For more clear histogram, 1173 rows with price bigger than 39590 ignored.\n"
     ]
    },
    {
     "data": {
      "text/plain": [
       "<Axes: >"
      ]
     },
     "execution_count": 1126,
     "metadata": {},
     "output_type": "execute_result"
    },
    {
     "data": {
      "image/png": "[encoded data removed]",
      "text/plain": [
       "<Figure size 1600x700 with 1 Axes>"
      ]
     },
     "metadata": {},
     "output_type": "display_data"
    }
   ],
   "source": [
    "print(((vech_df['price'].isna().sum() / vech_df.shape[0]).round(2)*100).astype(str).split('.')[0], '% of the columns is na')\n",
    "print('For more clear histogram,', vech_df[vech_df.price >= vech_df.price.quantile(0.99)].shape[0], 'rows with price bigger than', vech_df[vech_df.price >= vech_df.price.quantile(0.99)].price.min(), 'ignored.')\n",
    "vech_df[vech_df.price < vech_df.price.quantile(0.99)].price.hist(bins = 15, figsize = (16,7))"
   ]
  },
  {
   "cell_type": "code",
   "execution_count": 1127,
   "metadata": {},
   "outputs": [
    {
     "name": "stdout",
     "output_type": "stream",
     "text": [
      "0 % of the columns is na\n",
      "For more clear histogram, 1009 rows with age bigger than 33 ignored.\n"
     ]
    },
    {
     "data": {
      "text/plain": [
       "<Axes: >"
      ]
     },
     "execution_count": 1127,
     "metadata": {},
     "output_type": "execute_result"
    },
    {
     "data": {
      "image/png": "[encoded data removed]",
      "text/plain": [
       "<Figure size 1600x700 with 1 Axes>"
      ]
     },
     "metadata": {},
     "output_type": "display_data"
    }
   ],
   "source": [
    "print(((vech_df['age'].isna().sum() / vech_df.shape[0]).round(2)*100).astype(str).split('.')[0], '% of the columns is na')\n",
    "print('For more clear histogram,', vech_df[vech_df.age >= vech_df.age.quantile(0.99)].shape[0], 'rows with age bigger than', vech_df[vech_df.age >= vech_df.age.quantile(0.99)].age.min(), 'ignored.')\n",
    "vech_df[vech_df.age < vech_df.age.quantile(0.99)].age.hist(bins = 15, figsize = (16,7))"
   ]
  },
  {
   "cell_type": "code",
   "execution_count": 1128,
   "metadata": {},
   "outputs": [
    {
     "data": {
      "text/plain": [
       "(100768, 16)"
      ]
     },
     "execution_count": 1128,
     "metadata": {},
     "output_type": "execute_result"
    }
   ],
   "source": [
    "# Since 'fuel', 'title_status', 'transmission', 'price', 'age' and 'odometer' has small percentage of nas, dropping rows without them.\n",
    "# Also, 'price' shouldn't be na for the model.\n",
    "vech_df = vech_df[vech_df.fuel.notna() & vech_df.title_status.notna() & vech_df.transmission.notna() & vech_df.price.notna() & vech_df.age.notna() & vech_df.odometer.notna()]\n",
    "vech_df.shape"
   ]
  },
  {
   "cell_type": "code",
   "execution_count": 1129,
   "metadata": {},
   "outputs": [
    {
     "data": {
      "text/html": [
       "<div>\n",
       "<style scoped>\n",
       "    .dataframe tbody tr th:only-of-type {\n",
       "        vertical-align: middle;\n",
       "    }\n",
       "\n",
       "    .dataframe tbody tr th {\n",
       "        vertical-align: top;\n",
       "    }\n",
       "\n",
       "    .dataframe thead th {\n",
       "        text-align: right;\n",
       "    }\n",
       "</style>\n",
       "<table border=\"1\" class=\"dataframe\">\n",
       "  <thead>\n",
       "    <tr style=\"text-align: right;\">\n",
       "      <th></th>\n",
       "      <th>region</th>\n",
       "      <th>price</th>\n",
       "      <th>year</th>\n",
       "      <th>manufacturer</th>\n",
       "      <th>model</th>\n",
       "      <th>condition</th>\n",
       "      <th>cylinders</th>\n",
       "      <th>fuel</th>\n",
       "      <th>odometer</th>\n",
       "      <th>title_status</th>\n",
       "      <th>transmission</th>\n",
       "      <th>drive</th>\n",
       "      <th>type</th>\n",
       "      <th>paint_color</th>\n",
       "      <th>state</th>\n",
       "      <th>age</th>\n",
       "    </tr>\n",
       "  </thead>\n",
       "  <tbody>\n",
       "    <tr>\n",
       "      <th>31</th>\n",
       "      <td>auburn</td>\n",
       "      <td>15000</td>\n",
       "      <td>2013</td>\n",
       "      <td>ford</td>\n",
       "      <td>f-150 xlt</td>\n",
       "      <td>5.00</td>\n",
       "      <td>6</td>\n",
       "      <td>gas</td>\n",
       "      <td>128,000.00</td>\n",
       "      <td>clean</td>\n",
       "      <td>automatic</td>\n",
       "      <td>rwd</td>\n",
       "      <td>truck</td>\n",
       "      <td>black</td>\n",
       "      <td>al</td>\n",
       "      <td>-13</td>\n",
       "    </tr>\n",
       "    <tr>\n",
       "      <th>32</th>\n",
       "      <td>auburn</td>\n",
       "      <td>27990</td>\n",
       "      <td>2012</td>\n",
       "      <td>gmc</td>\n",
       "      <td>sierra 2500 hd extended cab</td>\n",
       "      <td>4.00</td>\n",
       "      <td>8</td>\n",
       "      <td>gas</td>\n",
       "      <td>68,696.00</td>\n",
       "      <td>clean</td>\n",
       "      <td>other</td>\n",
       "      <td>4wd</td>\n",
       "      <td>pickup</td>\n",
       "      <td>black</td>\n",
       "      <td>al</td>\n",
       "      <td>-12</td>\n",
       "    </tr>\n",
       "  </tbody>\n",
       "</table>\n",
       "</div>"
      ],
      "text/plain": [
       "    region  price  year manufacturer                        model  condition  \\\n",
       "31  auburn  15000  2013         ford                    f-150 xlt       5.00   \n",
       "32  auburn  27990  2012          gmc  sierra 2500 hd extended cab       4.00   \n",
       "\n",
       "    cylinders fuel   odometer title_status transmission drive    type  \\\n",
       "31          6  gas 128,000.00        clean    automatic   rwd   truck   \n",
       "32          8  gas  68,696.00        clean        other   4wd  pickup   \n",
       "\n",
       "   paint_color state  age  \n",
       "31       black    al  -13  \n",
       "32       black    al  -12  "
      ]
     },
     "execution_count": 1129,
     "metadata": {},
     "output_type": "execute_result"
    }
   ],
   "source": [
    "vech_df.head(2)"
   ]
  },
  {
   "cell_type": "markdown",
   "metadata": {},
   "source": [
    "### Data Preparation\n",
    "\n",
    "After our initial exploration and fine-tuning of the business understanding, it is time to construct our final dataset prior to modeling.  Here, we want to make sure to handle any integrity issues and cleaning, the engineering of new features, any transformations that we believe should happen (scaling, logarithms, normalization, etc.), and general preparation for modeling with `sklearn`. "
   ]
  },
  {
   "cell_type": "code",
   "execution_count": 1130,
   "metadata": {},
   "outputs": [
    {
     "name": "stdout",
     "output_type": "stream",
     "text": [
      "Manufacturer column has 40 unique values.\n"
     ]
    }
   ],
   "source": [
    "temp = pd.DataFrame(vech_df.manufacturer.value_counts())\n",
    "print('Manufacturer column has', vech_df['manufacturer'].nunique(), 'unique values.')"
   ]
  },
  {
   "cell_type": "code",
   "execution_count": 1131,
   "metadata": {},
   "outputs": [
    {
     "name": "stdout",
     "output_type": "stream",
     "text": [
      "Model column has 10334 unique values.\n"
     ]
    }
   ],
   "source": [
    "temp = pd.DataFrame(vech_df.model.value_counts())\n",
    "print('Model column has', vech_df['model'].nunique(), 'unique values.')"
   ]
  },
  {
   "cell_type": "code",
   "execution_count": null,
   "metadata": {},
   "outputs": [],
   "source": []
  },
  {
   "cell_type": "markdown",
   "metadata": {},
   "source": [
    "## Handling Minority Values"
   ]
  },
  {
   "cell_type": "code",
   "execution_count": 1022,
   "metadata": {},
   "outputs": [],
   "source": [
    "\"\"\"\n",
    "# based on information gained last cells of Data Understanding, small data of model and manufacturer is grouping.\n",
    "# Group small manufacturers\n",
    "temp = pd.DataFrame(vech_df['manufacturer'].value_counts())\n",
    "temp.columns = ['count']   # rename for clarity\n",
    "vech_df['manufacturer'] = vech_df['manufacturer'].replace(list(temp[temp['count'] < 1385].index), 'other')\n",
    "\n",
    "# Group small models\n",
    "temp = pd.DataFrame(vech_df['model'].value_counts())\n",
    "temp.columns = ['count']\n",
    "vech_df['model'] = vech_df['model'].replace(list(temp[temp['count'] < 1000].index), 'other')\n",
    "\"\"\""
   ]
  },
  {
   "cell_type": "code",
   "execution_count": 1003,
   "metadata": {},
   "outputs": [],
   "source": [
    "#vech_df['manu_model'] = vech_df['manufacturer'] + vech_df['model']\n",
    "#df = pd.get_dummies(df, columns = ['manufacturer', 'fuel', 'title_status', 'transmission', 'drive', 'type', 'paint_color'])"
   ]
  },
  {
   "cell_type": "code",
   "execution_count": null,
   "metadata": {},
   "outputs": [],
   "source": []
  },
  {
   "cell_type": "code",
   "execution_count": null,
   "metadata": {},
   "outputs": [],
   "source": []
  },
  {
   "cell_type": "markdown",
   "metadata": {},
   "source": [
    "## Spliting"
   ]
  },
  {
   "cell_type": "code",
   "execution_count": 1132,
   "metadata": {},
   "outputs": [],
   "source": [
    "# train - 80%, test - 20%\n",
    "X = vech_df.drop(columns = ['price'])\n",
    "y = vech_df['price']\n",
    "X_train, X_test, y_train, y_test = train_test_split(X, y, test_size = 0.2, random_state = 42, shuffle = True)\n",
    "#X_val, X_test, y_val, y_test = train_test_split(X, y, test_size = 0.4, random_state = 42, shuffle = True)"
   ]
  },
  {
   "cell_type": "markdown",
   "metadata": {},
   "source": [
    "## Scaling"
   ]
  },
  {
   "cell_type": "code",
   "execution_count": 1133,
   "metadata": {},
   "outputs": [],
   "source": [
    "X_train_scaled = X_train\n",
    "X_test_scaled = X_test\n",
    "    \n",
    "scaler = StandardScaler()\n",
    "X_train_scaled[['odometer', 'age']] = scaler.fit_transform(X_train[['odometer', 'age']])\n",
    "X_test_scaled[['odometer', 'age']] = scaler.transform(X_test[['odometer', 'age']])"
   ]
  },
  {
   "cell_type": "markdown",
   "metadata": {},
   "source": [
    "### Modeling\n",
    "\n",
    "With your (almost?) final dataset in hand, it is now time to build some models.  Here, you should build a number of different regression models with the price as the target.  In building your models, you should explore different parameters and be sure to cross-validate your findings."
   ]
  },
  {
   "cell_type": "markdown",
   "metadata": {},
   "source": [
    "### Linear Regression"
   ]
  },
  {
   "cell_type": "code",
   "execution_count": 1134,
   "metadata": {},
   "outputs": [
    {
     "name": "stdout",
     "output_type": "stream",
     "text": [
      "MAE: 6646.270268929245\n"
     ]
    }
   ],
   "source": [
    "# keep only numeric columns - LINEAR\n",
    "X_train_num = X_train.select_dtypes(include=['number'])\n",
    "X_test_num  = X_test.select_dtypes(include=['number'])\n",
    "\n",
    "lr_model = LinearRegression(fit_intercept=True).fit(X_train_num, y_train) # Fit and evaluate\n",
    "print('MAE:', mean_absolute_error(y_test, lr_model.predict(X_test_num)))"
   ]
  },
  {
   "cell_type": "code",
   "execution_count": 1135,
   "metadata": {},
   "outputs": [
    {
     "name": "stdout",
     "output_type": "stream",
     "text": [
      "Best Parameters: {'alpha': 0.0}\n",
      "MAE: 6646.270268929245\n"
     ]
    }
   ],
   "source": [
    "# RIDGE\n",
    "\n",
    "lr_model = LinearRegression(fit_intercept=True).fit(X_train_num, y_train) # Fit and evaluate\n",
    "y_pred = lr_model.predict(X_test_num)\n",
    "print('Best Parameters:', gscv_ridge_model.best_params_) \n",
    "print('MAE:', mean_absolute_error(y_test, y_pred))"
   ]
  },
  {
   "cell_type": "code",
   "execution_count": 1136,
   "metadata": {},
   "outputs": [
    {
     "name": "stdout",
     "output_type": "stream",
     "text": [
      "Fitting 5 folds for each of 10 candidates, totalling 50 fits\n",
      "Best Parameters: {'alpha': 0.0}\n",
      "MAE: 6665.380619231914\n"
     ]
    }
   ],
   "source": [
    "# GridSearchCV on Ridge's alpha parameter\n",
    "gscv_ridge_model = GridSearchCV(Ridge(), param_grid = {'alpha': np.linspace(0, 1, 10)}, scoring='neg_mean_absolute_error', cv=5, n_jobs=-1, verbose = 3).fit(X_train_num, y_train)\n",
    "print('Best Parameters:', gscv_ridge_model.best_params_) \n",
    "print('MAE:', mean_absolute_error(y_test, gscv_ridge_model.predict(X_test_num)))"
   ]
  },
  {
   "cell_type": "code",
   "execution_count": 1137,
   "metadata": {},
   "outputs": [
    {
     "name": "stdout",
     "output_type": "stream",
     "text": [
      "MAE: 6683.8828822425985\n"
     ]
    }
   ],
   "source": [
    "#Lasso\n",
    "lasso_model = Lasso(alpha=0.1).fit(X_train_num, y_train)\n",
    "print('MAE:', mean_absolute_error(y_test, lasso_model.predict(X_test_num)))\n"
   ]
  },
  {
   "cell_type": "code",
   "execution_count": 1010,
   "metadata": {},
   "outputs": [
    {
     "name": "stdout",
     "output_type": "stream",
     "text": [
      "Fitting 5 folds for each of 10 candidates, totalling 50 fits\n",
      "Best Parameters: {'alpha': 0.0}\n",
      "MAE: 6795.294320044555\n"
     ]
    }
   ],
   "source": [
    "# GridSearchCV on Lasso's alpha parameter\n",
    "gscv_lasso_model = GridSearchCV(Lasso(), param_grid = {'alpha': np.linspace(0, 1, 10)}, scoring='neg_mean_absolute_error', cv=5, n_jobs=3, verbose = 3).fit(X_train_num, y_train)\n",
    "print('Best Parameters:', gscv_lasso_model.best_params_) \n",
    "print('MAE:', mean_absolute_error(y_test, gscv_lasso_model.predict(X_test_num)))"
   ]
  },
  {
   "cell_type": "code",
   "execution_count": 1139,
   "metadata": {},
   "outputs": [
    {
     "name": "stdout",
     "output_type": "stream",
     "text": [
      "Fitting 5 folds for each of 10 candidates, totalling 50 fits\n",
      "Best Parameters: {'alpha': 0.0}\n",
      "MAE: 6683.8454212193465\n"
     ]
    }
   ],
   "source": [
    "# GridSearchCV on Lasso's alpha parameter\n",
    "gscv_lasso_model = GridSearchCV(Lasso(), param_grid = {'alpha': np.linspace(0, 1, 10)}, scoring='neg_mean_absolute_error', cv=5, n_jobs=3, verbose = 3).fit(X_train_num, y_train)\n",
    "print('Best Parameters:', gscv_lasso_model.best_params_) \n",
    "print('MAE:', mean_absolute_error(y_test, gscv_lasso_model.predict(X_test_num)))"
   ]
  },
  {
   "cell_type": "code",
   "execution_count": null,
   "metadata": {},
   "outputs": [],
   "source": []
  },
  {
   "cell_type": "code",
   "execution_count": null,
   "metadata": {},
   "outputs": [],
   "source": []
  },
  {
   "cell_type": "code",
   "execution_count": null,
   "metadata": {},
   "outputs": [],
   "source": []
  },
  {
   "cell_type": "code",
   "execution_count": null,
   "metadata": {},
   "outputs": [],
   "source": []
  },
  {
   "cell_type": "code",
   "execution_count": null,
   "metadata": {},
   "outputs": [],
   "source": []
  },
  {
   "cell_type": "markdown",
   "metadata": {},
   "source": [
    "### Evaluation\n",
    "\n",
    "With some modeling accomplished, we aim to reflect on what we identify as a high-quality model and what we are able to learn from this.  We should review our business objective and explore how well we can provide meaningful insight into drivers of used car prices.  Your goal now is to distill your findings and determine whether the earlier phases need revisitation and adjustment or if you have information of value to bring back to your client."
   ]
  },
  {
   "cell_type": "code",
   "execution_count": null,
   "metadata": {},
   "outputs": [],
   "source": [
    "I tried Linear Regression, Ridge and Lasso models with different features combinations. As summary, First, I eliminated minorities in model and manufacturer (code commented in Handling with Minorities section). With this version on model and manufacturer:\n",
    "Directly turning them into dummies gives MAE: 176248\n",
    "Combining them as one column ('manufacturer_model') and using as dummies \n",
    "Without manufacturer, just using model column by turning into dummies\n",
    "Without model, just using manufacturer column by turning into dummies \n",
    "Then, I started to play with variety of model column.\n",
    "Increasing 500 limit on model column to 1000 \n",
    "Decreasing 500 limit on model column to 300 \n",
    "After these, I realized that less number of columns is better for the model.\n",
    "So, as last attempt, I didn't use model column and just go with manufacturer. With this way, MAE: 159538\n",
    "As last step, I run parameter search (on 'alpha') with cv = 5 on both Lasso and Ridge models. Final model Lasso with alpha = 1 has MAE: 6683.85"
   ]
  },
  {
   "cell_type": "code",
   "execution_count": null,
   "metadata": {},
   "outputs": [],
   "source": []
  },
  {
   "cell_type": "code",
   "execution_count": null,
   "metadata": {},
   "outputs": [],
   "source": []
  },
  {
   "cell_type": "code",
   "execution_count": null,
   "metadata": {},
   "outputs": [],
   "source": []
  },
  {
   "cell_type": "code",
   "execution_count": null,
   "metadata": {},
   "outputs": [],
   "source": []
  },
  {
   "cell_type": "code",
   "execution_count": null,
   "metadata": {},
   "outputs": [],
   "source": []
  },
  {
   "cell_type": "markdown",
   "metadata": {},
   "source": [
    "### Deployment\n",
    "\n",
    "Now that we've settled on our models and findings, it is time to deliver the information to the client.  You should organize your work as a basic report that details your primary findings.  Keep in mind that your audience is a group of used car dealers interested in fine-tuning their inventory."
   ]
  },
  {
   "cell_type": "markdown",
   "metadata": {},
   "source": [
    "### <i> Summary of Insights: <i>\n",
    "<p><i>\n",
    "    <li> Older cars are slightly cheaper than new ones. </li>\n",
    "    <li> Majority of the cars are manufactured by ford or chevrolet. </li>\n",
    "    <li> Great majority of the cars's fuel is gas. </li>\n",
    "    <li> Almost every car is stated as clean. </li>\n",
    "    <li> Most of the cars are younger than 15 years old. </li>\n",
    "    <li> 65% of the cars has odometer value smaller than 50.000. </li>\n",
    "</i>"
   ]
  },
  {
   "cell_type": "markdown",
   "metadata": {},
   "source": [
    "### <i> Result: <i>\n",
    "<i> <p> Manufacturer being volvo or toyota, type being pickup, trasmission being manual and diesel as fuel </b> has have strong effect on a car's price, in a positive way. <b> Type being offroad, manufacturer being ram or datsun or harley-davidson </b>, also, have strong effect on a car's price but in a bad way. </i>\n",
    "<p> <i> A volvo pickup type diesel car with manual transmission can be sold for more. <br> A datsun offroad type hybrid car would sell for lower price. </br> </i>\n",
    "<p> <b> Thus, we can state that, mostly, car's manufacturer and type drives its price. </b>"
   ]
  }
 ],
 "metadata": {
  "kernelspec": {
   "display_name": "Python 3 (ipykernel)",
   "language": "python",
   "name": "python3"
  },
  "language_info": {
   "codemirror_mode": {
    "name": "ipython",
    "version": 3
   },
   "file_extension": ".py",
   "mimetype": "text/x-python",
   "name": "python",
   "nbconvert_exporter": "python",
   "pygments_lexer": "ipython3",
   "version": "3.12.7"
  },
  "widgets": {
   "application/vnd.jupyter.widget-state+json": {
    "state": {},
    "version_major": 2,
    "version_minor": 0
   }
  }
 },
 "nbformat": 4,
 "nbformat_minor": 4
}
